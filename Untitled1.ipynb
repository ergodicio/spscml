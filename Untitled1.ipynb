{
 "cells": [
  {
   "cell_type": "code",
   "execution_count": 7,
   "id": "484bee44-573a-4a76-bb74-1fd54bef5e79",
   "metadata": {},
   "outputs": [],
   "source": [
    "from tesseract_core import Tesseract\n",
    "from tesseract_jax import apply_tesseract\n",
    "\n",
    "import jax\n",
    "import jax.numpy as jnp\n",
    "from jax.numpy import array\n",
    "jax.config.update(\"jax_enable_x64\", True)\n",
    "\n",
    "import sys\n",
    "sys.path.append(\".\")\n",
    "sys.path.append(\"src\")\n",
    "\n",
    "import tesseracts.sheaths.tanh_sheath.tesseract_api as tx_api\n",
    "\n",
    "tx = Tesseract.from_tesseract_api(tx_api)"
   ]
  },
  {
   "cell_type": "code",
   "execution_count": 37,
   "id": "2c795420-f629-49b4-b784-eab5135b8dbe",
   "metadata": {},
   "outputs": [],
   "source": [
    "def Ip_of_V(y):\n",
    "    V = y[0]\n",
    "    Ip = apply_tesseract(tx, {\"N\": array(1e18), \n",
    "                             \"n\": array(1.1e22), \n",
    "                             \"T\": array(2e1), \n",
    "                             \"Vp\": array(V), \n",
    "                             \"Lz\": array(2.5) })[\"Ip\"]\n",
    "    return jnp.array([Ip])\n",
    "\n",
    "\n",
    "jac_f = lambda y: jnp.atleast_2d(tx.jacobian({\"N\": array(1e18), \n",
    "                             \"n\": array(1.1e22), \n",
    "                             \"T\": array(2e1), \n",
    "                             \"Vp\": array(y[0]), \n",
    "                             \"Lz\": array(2.5) }, [\"Vp\"], [\"Ip\"])[\"Ip\"][\"Vp\"])\n",
    "\n",
    "\n",
    "def newton_solve(f, x0, jac):\n",
    "    def newton_step(x):\n",
    "        print(x)\n",
    "        f_val, f_vjp = jax.vjp(f, x)\n",
    "        J = jnp.stack([f_vjp(jnp.array([1.]))[0]], axis=1).T\n",
    "        return x - jnp.linalg.solve(J, f_val[:, None]).flatten()\n",
    "    return jax.lax.while_loop(lambda x: jnp.all(jnp.abs(f(x)) > 1e-10),\n",
    "                              newton_step,\n",
    "                              x0)\n",
    "    \n",
    "f = lambda V: Ip_of_V(V) + 43.0"
   ]
  },
  {
   "cell_type": "code",
   "execution_count": 38,
   "id": "9ad4c09a-1898-4604-9250-513e4f951813",
   "metadata": {},
   "outputs": [
    {
     "name": "stdout",
     "output_type": "stream",
     "text": [
      "Traced<float64[1]>with<DynamicJaxprTrace>\n"
     ]
    },
    {
     "data": {
      "text/plain": [
       "Array([0.13434265], dtype=float64)"
      ]
     },
     "execution_count": 38,
     "metadata": {},
     "output_type": "execute_result"
    }
   ],
   "source": [
    "newton_solve(f, jnp.array([0.0]), jac_f)"
   ]
  },
  {
   "cell_type": "code",
   "execution_count": 40,
   "id": "486f7209-285e-4aac-844a-f5dee7978386",
   "metadata": {},
   "outputs": [
    {
     "name": "stdout",
     "output_type": "stream",
     "text": [
      "Traced<float64[1]>with<DynamicJaxprTrace>\n"
     ]
    },
    {
     "data": {
      "text/plain": [
       "Array([0.13434265], dtype=float64)"
      ]
     },
     "execution_count": 40,
     "metadata": {},
     "output_type": "execute_result"
    }
   ],
   "source": [
    "def my_tangent_solve(g, y):\n",
    "    # Jg = jac_f(y)\n",
    "    Jg = jnp.atleast_2d(g(y) - g(jnp.array([0.0])) / y)\n",
    "    return jnp.linalg.solve(Jg, y[:, None]).flatten()\n",
    "        \n",
    "    \n",
    "jax.lax.custom_root(f, jnp.array([0.0]),\n",
    "                    lambda f, x: newton_solve(f, x, jac_f),\n",
    "                    my_tangent_solve)"
   ]
  },
  {
   "cell_type": "code",
   "execution_count": 41,
   "id": "3bab65d3-339c-4e1f-a27d-02c4b4bc4b9a",
   "metadata": {},
   "outputs": [
    {
     "name": "stdout",
     "output_type": "stream",
     "text": [
      "Traced<float64[1]>with<DynamicJaxprTrace>\n"
     ]
    },
    {
     "ename": "TypeError",
     "evalue": "Argument 'UndefinedPrimal(float64[1,1])' of type '<class 'jax._src.interpreters.ad.UndefinedPrimal'>' is not a valid JAX type",
     "output_type": "error",
     "traceback": [
      "\u001b[31m---------------------------------------------------------------------------\u001b[39m",
      "\u001b[31mJaxStackTraceBeforeTransformation\u001b[39m         Traceback (most recent call last)",
      "\u001b[36mFile \u001b[39m\u001b[32m<frozen runpy>:198\u001b[39m, in \u001b[36m_run_module_as_main\u001b[39m\u001b[34m()\u001b[39m\n",
      "\u001b[36mFile \u001b[39m\u001b[32m<frozen runpy>:88\u001b[39m, in \u001b[36m_run_code\u001b[39m\u001b[34m()\u001b[39m\n",
      "\u001b[36mFile \u001b[39m\u001b[32m~/.cache/uv/archive-v0/C7NNiDw5Jkg1uZVqKE9GN/lib/python3.11/site-packages/ipykernel_launcher.py:18\u001b[39m\n\u001b[32m     16\u001b[39m \u001b[38;5;28;01mfrom\u001b[39;00m\u001b[38;5;250m \u001b[39m\u001b[34;01mipykernel\u001b[39;00m\u001b[38;5;250m \u001b[39m\u001b[38;5;28;01mimport\u001b[39;00m kernelapp \u001b[38;5;28;01mas\u001b[39;00m app\n\u001b[32m---> \u001b[39m\u001b[32m18\u001b[39m app.launch_new_instance()\n",
      "\u001b[36mFile \u001b[39m\u001b[32m~/.cache/uv/archive-v0/C7NNiDw5Jkg1uZVqKE9GN/lib/python3.11/site-packages/traitlets/config/application.py:1075\u001b[39m, in \u001b[36mlaunch_instance\u001b[39m\u001b[34m()\u001b[39m\n\u001b[32m   1074\u001b[39m app.initialize(argv)\n\u001b[32m-> \u001b[39m\u001b[32m1075\u001b[39m app.start()\n",
      "\u001b[36mFile \u001b[39m\u001b[32m~/.cache/uv/archive-v0/C7NNiDw5Jkg1uZVqKE9GN/lib/python3.11/site-packages/ipykernel/kernelapp.py:739\u001b[39m, in \u001b[36mstart\u001b[39m\u001b[34m()\u001b[39m\n\u001b[32m    738\u001b[39m \u001b[38;5;28;01mtry\u001b[39;00m:\n\u001b[32m--> \u001b[39m\u001b[32m739\u001b[39m     \u001b[38;5;28mself\u001b[39m.io_loop.start()\n\u001b[32m    740\u001b[39m \u001b[38;5;28;01mexcept\u001b[39;00m \u001b[38;5;167;01mKeyboardInterrupt\u001b[39;00m:\n",
      "\u001b[36mFile \u001b[39m\u001b[32m~/.cache/uv/archive-v0/C7NNiDw5Jkg1uZVqKE9GN/lib/python3.11/site-packages/tornado/platform/asyncio.py:211\u001b[39m, in \u001b[36mstart\u001b[39m\u001b[34m()\u001b[39m\n\u001b[32m    210\u001b[39m \u001b[38;5;28;01mdef\u001b[39;00m\u001b[38;5;250m \u001b[39m\u001b[34mstart\u001b[39m(\u001b[38;5;28mself\u001b[39m) -> \u001b[38;5;28;01mNone\u001b[39;00m:\n\u001b[32m--> \u001b[39m\u001b[32m211\u001b[39m     \u001b[38;5;28mself\u001b[39m.asyncio_loop.run_forever()\n",
      "\u001b[36mFile \u001b[39m\u001b[32m~/.local/share/uv/python/cpython-3.11.11-macos-aarch64-none/lib/python3.11/asyncio/base_events.py:608\u001b[39m, in \u001b[36mrun_forever\u001b[39m\u001b[34m()\u001b[39m\n\u001b[32m    607\u001b[39m \u001b[38;5;28;01mwhile\u001b[39;00m \u001b[38;5;28;01mTrue\u001b[39;00m:\n\u001b[32m--> \u001b[39m\u001b[32m608\u001b[39m     \u001b[38;5;28mself\u001b[39m._run_once()\n\u001b[32m    609\u001b[39m     \u001b[38;5;28;01mif\u001b[39;00m \u001b[38;5;28mself\u001b[39m._stopping:\n",
      "\u001b[36mFile \u001b[39m\u001b[32m~/.local/share/uv/python/cpython-3.11.11-macos-aarch64-none/lib/python3.11/asyncio/base_events.py:1936\u001b[39m, in \u001b[36m_run_once\u001b[39m\u001b[34m()\u001b[39m\n\u001b[32m   1935\u001b[39m     \u001b[38;5;28;01melse\u001b[39;00m:\n\u001b[32m-> \u001b[39m\u001b[32m1936\u001b[39m         handle._run()\n\u001b[32m   1937\u001b[39m handle = \u001b[38;5;28;01mNone\u001b[39;00m\n",
      "\u001b[36mFile \u001b[39m\u001b[32m~/.local/share/uv/python/cpython-3.11.11-macos-aarch64-none/lib/python3.11/asyncio/events.py:84\u001b[39m, in \u001b[36m_run\u001b[39m\u001b[34m()\u001b[39m\n\u001b[32m     83\u001b[39m \u001b[38;5;28;01mtry\u001b[39;00m:\n\u001b[32m---> \u001b[39m\u001b[32m84\u001b[39m     \u001b[38;5;28mself\u001b[39m._context.run(\u001b[38;5;28mself\u001b[39m._callback, *\u001b[38;5;28mself\u001b[39m._args)\n\u001b[32m     85\u001b[39m \u001b[38;5;28;01mexcept\u001b[39;00m (\u001b[38;5;167;01mSystemExit\u001b[39;00m, \u001b[38;5;167;01mKeyboardInterrupt\u001b[39;00m):\n",
      "\u001b[36mFile \u001b[39m\u001b[32m~/.cache/uv/archive-v0/C7NNiDw5Jkg1uZVqKE9GN/lib/python3.11/site-packages/ipykernel/kernelbase.py:545\u001b[39m, in \u001b[36mdispatch_queue\u001b[39m\u001b[34m()\u001b[39m\n\u001b[32m    544\u001b[39m \u001b[38;5;28;01mtry\u001b[39;00m:\n\u001b[32m--> \u001b[39m\u001b[32m545\u001b[39m     \u001b[38;5;28;01mawait\u001b[39;00m \u001b[38;5;28mself\u001b[39m.process_one()\n\u001b[32m    546\u001b[39m \u001b[38;5;28;01mexcept\u001b[39;00m \u001b[38;5;167;01mException\u001b[39;00m:\n",
      "\u001b[36mFile \u001b[39m\u001b[32m~/.cache/uv/archive-v0/C7NNiDw5Jkg1uZVqKE9GN/lib/python3.11/site-packages/ipykernel/kernelbase.py:534\u001b[39m, in \u001b[36mprocess_one\u001b[39m\u001b[34m()\u001b[39m\n\u001b[32m    533\u001b[39m         \u001b[38;5;28;01mreturn\u001b[39;00m\n\u001b[32m--> \u001b[39m\u001b[32m534\u001b[39m \u001b[38;5;28;01mawait\u001b[39;00m dispatch(*args)\n",
      "\u001b[36mFile \u001b[39m\u001b[32m~/.cache/uv/archive-v0/C7NNiDw5Jkg1uZVqKE9GN/lib/python3.11/site-packages/ipykernel/kernelbase.py:437\u001b[39m, in \u001b[36mdispatch_shell\u001b[39m\u001b[34m()\u001b[39m\n\u001b[32m    436\u001b[39m     \u001b[38;5;28;01mif\u001b[39;00m inspect.isawaitable(result):\n\u001b[32m--> \u001b[39m\u001b[32m437\u001b[39m         \u001b[38;5;28;01mawait\u001b[39;00m result\n\u001b[32m    438\u001b[39m \u001b[38;5;28;01mexcept\u001b[39;00m \u001b[38;5;167;01mException\u001b[39;00m:\n",
      "\u001b[36mFile \u001b[39m\u001b[32m~/.cache/uv/archive-v0/C7NNiDw5Jkg1uZVqKE9GN/lib/python3.11/site-packages/ipykernel/ipkernel.py:362\u001b[39m, in \u001b[36mexecute_request\u001b[39m\u001b[34m()\u001b[39m\n\u001b[32m    361\u001b[39m \u001b[38;5;28mself\u001b[39m._associate_new_top_level_threads_with(parent_header)\n\u001b[32m--> \u001b[39m\u001b[32m362\u001b[39m \u001b[38;5;28;01mawait\u001b[39;00m \u001b[38;5;28msuper\u001b[39m().execute_request(stream, ident, parent)\n",
      "\u001b[36mFile \u001b[39m\u001b[32m~/.cache/uv/archive-v0/C7NNiDw5Jkg1uZVqKE9GN/lib/python3.11/site-packages/ipykernel/kernelbase.py:778\u001b[39m, in \u001b[36mexecute_request\u001b[39m\u001b[34m()\u001b[39m\n\u001b[32m    777\u001b[39m \u001b[38;5;28;01mif\u001b[39;00m inspect.isawaitable(reply_content):\n\u001b[32m--> \u001b[39m\u001b[32m778\u001b[39m     reply_content = \u001b[38;5;28;01mawait\u001b[39;00m reply_content\n\u001b[32m    780\u001b[39m \u001b[38;5;66;03m# Flush output before sending the reply.\u001b[39;00m\n",
      "\u001b[36mFile \u001b[39m\u001b[32m~/.cache/uv/archive-v0/C7NNiDw5Jkg1uZVqKE9GN/lib/python3.11/site-packages/ipykernel/ipkernel.py:449\u001b[39m, in \u001b[36mdo_execute\u001b[39m\u001b[34m()\u001b[39m\n\u001b[32m    448\u001b[39m \u001b[38;5;28;01mif\u001b[39;00m accepts_params[\u001b[33m\"\u001b[39m\u001b[33mcell_id\u001b[39m\u001b[33m\"\u001b[39m]:\n\u001b[32m--> \u001b[39m\u001b[32m449\u001b[39m     res = shell.run_cell(\n\u001b[32m    450\u001b[39m         code,\n\u001b[32m    451\u001b[39m         store_history=store_history,\n\u001b[32m    452\u001b[39m         silent=silent,\n\u001b[32m    453\u001b[39m         cell_id=cell_id,\n\u001b[32m    454\u001b[39m     )\n\u001b[32m    455\u001b[39m \u001b[38;5;28;01melse\u001b[39;00m:\n",
      "\u001b[36mFile \u001b[39m\u001b[32m~/.cache/uv/archive-v0/C7NNiDw5Jkg1uZVqKE9GN/lib/python3.11/site-packages/ipykernel/zmqshell.py:549\u001b[39m, in \u001b[36mrun_cell\u001b[39m\u001b[34m()\u001b[39m\n\u001b[32m    548\u001b[39m \u001b[38;5;28mself\u001b[39m._last_traceback = \u001b[38;5;28;01mNone\u001b[39;00m\n\u001b[32m--> \u001b[39m\u001b[32m549\u001b[39m \u001b[38;5;28;01mreturn\u001b[39;00m \u001b[38;5;28msuper\u001b[39m().run_cell(*args, **kwargs)\n",
      "\u001b[36mFile \u001b[39m\u001b[32m~/.cache/uv/archive-v0/C7NNiDw5Jkg1uZVqKE9GN/lib/python3.11/site-packages/IPython/core/interactiveshell.py:3100\u001b[39m, in \u001b[36mrun_cell\u001b[39m\u001b[34m()\u001b[39m\n\u001b[32m   3099\u001b[39m \u001b[38;5;28;01mtry\u001b[39;00m:\n\u001b[32m-> \u001b[39m\u001b[32m3100\u001b[39m     result = \u001b[38;5;28mself\u001b[39m._run_cell(\n\u001b[32m   3101\u001b[39m         raw_cell, store_history, silent, shell_futures, cell_id\n\u001b[32m   3102\u001b[39m     )\n\u001b[32m   3103\u001b[39m \u001b[38;5;28;01mfinally\u001b[39;00m:\n",
      "\u001b[36mFile \u001b[39m\u001b[32m~/.cache/uv/archive-v0/C7NNiDw5Jkg1uZVqKE9GN/lib/python3.11/site-packages/IPython/core/interactiveshell.py:3155\u001b[39m, in \u001b[36m_run_cell\u001b[39m\u001b[34m()\u001b[39m\n\u001b[32m   3154\u001b[39m \u001b[38;5;28;01mtry\u001b[39;00m:\n\u001b[32m-> \u001b[39m\u001b[32m3155\u001b[39m     result = runner(coro)\n\u001b[32m   3156\u001b[39m \u001b[38;5;28;01mexcept\u001b[39;00m \u001b[38;5;167;01mBaseException\u001b[39;00m \u001b[38;5;28;01mas\u001b[39;00m e:\n",
      "\u001b[36mFile \u001b[39m\u001b[32m~/.cache/uv/archive-v0/C7NNiDw5Jkg1uZVqKE9GN/lib/python3.11/site-packages/IPython/core/async_helpers.py:128\u001b[39m, in \u001b[36m_pseudo_sync_runner\u001b[39m\u001b[34m()\u001b[39m\n\u001b[32m    127\u001b[39m \u001b[38;5;28;01mtry\u001b[39;00m:\n\u001b[32m--> \u001b[39m\u001b[32m128\u001b[39m     coro.send(\u001b[38;5;28;01mNone\u001b[39;00m)\n\u001b[32m    129\u001b[39m \u001b[38;5;28;01mexcept\u001b[39;00m \u001b[38;5;167;01mStopIteration\u001b[39;00m \u001b[38;5;28;01mas\u001b[39;00m exc:\n",
      "\u001b[36mFile \u001b[39m\u001b[32m~/.cache/uv/archive-v0/C7NNiDw5Jkg1uZVqKE9GN/lib/python3.11/site-packages/IPython/core/interactiveshell.py:3367\u001b[39m, in \u001b[36mrun_cell_async\u001b[39m\u001b[34m()\u001b[39m\n\u001b[32m   3364\u001b[39m interactivity = \u001b[33m\"\u001b[39m\u001b[33mnone\u001b[39m\u001b[33m\"\u001b[39m \u001b[38;5;28;01mif\u001b[39;00m silent \u001b[38;5;28;01melse\u001b[39;00m \u001b[38;5;28mself\u001b[39m.ast_node_interactivity\n\u001b[32m-> \u001b[39m\u001b[32m3367\u001b[39m has_raised = \u001b[38;5;28;01mawait\u001b[39;00m \u001b[38;5;28mself\u001b[39m.run_ast_nodes(code_ast.body, cell_name,\n\u001b[32m   3368\u001b[39m        interactivity=interactivity, compiler=compiler, result=result)\n\u001b[32m   3370\u001b[39m \u001b[38;5;28mself\u001b[39m.last_execution_succeeded = \u001b[38;5;129;01mnot\u001b[39;00m has_raised\n",
      "\u001b[36mFile \u001b[39m\u001b[32m~/.cache/uv/archive-v0/C7NNiDw5Jkg1uZVqKE9GN/lib/python3.11/site-packages/IPython/core/interactiveshell.py:3612\u001b[39m, in \u001b[36mrun_ast_nodes\u001b[39m\u001b[34m()\u001b[39m\n\u001b[32m   3611\u001b[39m     asy = compare(code)\n\u001b[32m-> \u001b[39m\u001b[32m3612\u001b[39m \u001b[38;5;28;01mif\u001b[39;00m \u001b[38;5;28;01mawait\u001b[39;00m \u001b[38;5;28mself\u001b[39m.run_code(code, result, async_=asy):\n\u001b[32m   3613\u001b[39m     \u001b[38;5;28;01mreturn\u001b[39;00m \u001b[38;5;28;01mTrue\u001b[39;00m\n",
      "\u001b[36mFile \u001b[39m\u001b[32m~/.cache/uv/archive-v0/C7NNiDw5Jkg1uZVqKE9GN/lib/python3.11/site-packages/IPython/core/interactiveshell.py:3672\u001b[39m, in \u001b[36mrun_code\u001b[39m\u001b[34m()\u001b[39m\n\u001b[32m   3671\u001b[39m     \u001b[38;5;28;01melse\u001b[39;00m:\n\u001b[32m-> \u001b[39m\u001b[32m3672\u001b[39m         exec(code_obj, \u001b[38;5;28mself\u001b[39m.user_global_ns, \u001b[38;5;28mself\u001b[39m.user_ns)\n\u001b[32m   3673\u001b[39m \u001b[38;5;28;01mfinally\u001b[39;00m:\n\u001b[32m   3674\u001b[39m     \u001b[38;5;66;03m# Reset our crash handler in place\u001b[39;00m\n",
      "\u001b[36mCell\u001b[39m\u001b[36m \u001b[39m\u001b[32mIn[2]\u001b[39m\u001b[32m, line 42\u001b[39m\n\u001b[32m     40\u001b[39m     \u001b[38;5;28;01mreturn\u001b[39;00m jax.lax.custom_root(f, jnp.array([\u001b[32m0.0\u001b[39m]), newton_solve, my_tangent_solve)[\u001b[32m0\u001b[39m]\n\u001b[32m---> \u001b[39m\u001b[32m42\u001b[39m Vp = test(-\u001b[32m50.0\u001b[39m)\n\u001b[32m     43\u001b[39m \u001b[38;5;28mprint\u001b[39m(Ip_of_V(jnp.array([Vp])))\n",
      "\u001b[36mCell\u001b[39m\u001b[36m \u001b[39m\u001b[32mIn[2]\u001b[39m\u001b[32m, line 40\u001b[39m, in \u001b[36mtest\u001b[39m\u001b[34m()\u001b[39m\n\u001b[32m     38\u001b[39m     \u001b[38;5;28;01mreturn\u001b[39;00m jnp.linalg.solve(Jg, y[:, \u001b[38;5;28;01mNone\u001b[39;00m]).flatten()\n\u001b[32m---> \u001b[39m\u001b[32m40\u001b[39m \u001b[38;5;28;01mreturn\u001b[39;00m jax.lax.custom_root(f, jnp.array([\u001b[32m0.0\u001b[39m]), newton_solve, my_tangent_solve)[\u001b[32m0\u001b[39m]\n",
      "\u001b[36mCell\u001b[39m\u001b[36m \u001b[39m\u001b[32mIn[2]\u001b[39m\u001b[32m, line 7\u001b[39m, in \u001b[36mnewton_solve\u001b[39m\u001b[34m()\u001b[39m\n\u001b[32m      5\u001b[39m     \u001b[38;5;28;01mreturn\u001b[39;00m x - jnp.linalg.solve(Jf, f(x)[:, \u001b[38;5;28;01mNone\u001b[39;00m]).flatten()\n\u001b[32m----> \u001b[39m\u001b[32m7\u001b[39m \u001b[38;5;28;01mreturn\u001b[39;00m jax.lax.while_loop(\u001b[38;5;28;01mlambda\u001b[39;00m x: jnp.all(jnp.abs(f(x)) > \u001b[32m1e-10\u001b[39m),\n\u001b[32m      8\u001b[39m                           newton_step,\n\u001b[32m      9\u001b[39m                           x0)\n",
      "\u001b[36mCell\u001b[39m\u001b[36m \u001b[39m\u001b[32mIn[2]\u001b[39m\u001b[32m, line 5\u001b[39m, in \u001b[36mnewton_step\u001b[39m\u001b[34m()\u001b[39m\n\u001b[32m      4\u001b[39m Jf = jnp.stack([f_vjp(jnp.array([\u001b[32m1.\u001b[39m]))[\u001b[32m0\u001b[39m]], axis=\u001b[32m1\u001b[39m).T\n\u001b[32m----> \u001b[39m\u001b[32m5\u001b[39m \u001b[38;5;28;01mreturn\u001b[39;00m x - jnp.linalg.solve(Jf, f(x)[:, \u001b[38;5;28;01mNone\u001b[39;00m]).flatten()\n",
      "\u001b[36mFile \u001b[39m\u001b[32m~/src/spscml_dlr/.venv/lib/python3.11/site-packages/jax/_src/numpy/linalg.py:1370\u001b[39m, in \u001b[36msolve\u001b[39m\u001b[34m()\u001b[39m\n\u001b[32m   1369\u001b[39m signature = \u001b[33m\"\u001b[39m\u001b[33m(m,m),(m)->(m)\u001b[39m\u001b[33m\"\u001b[39m \u001b[38;5;28;01mif\u001b[39;00m b.ndim == \u001b[32m1\u001b[39m \u001b[38;5;28;01melse\u001b[39;00m \u001b[33m\"\u001b[39m\u001b[33m(m,m),(m,n)->(m,n)\u001b[39m\u001b[33m\"\u001b[39m\n\u001b[32m-> \u001b[39m\u001b[32m1370\u001b[39m \u001b[38;5;28;01mreturn\u001b[39;00m jnp.vectorize(lax_linalg._solve, signature=signature)(a, b)\n",
      "\u001b[36mFile \u001b[39m\u001b[32m~/src/spscml_dlr/.venv/lib/python3.11/site-packages/jax/_src/numpy/vectorize.py:347\u001b[39m, in \u001b[36mwrapped\u001b[39m\u001b[34m()\u001b[39m\n\u001b[32m    346\u001b[39m     vectorized_func = api.vmap(vectorized_func, in_axes)\n\u001b[32m--> \u001b[39m\u001b[32m347\u001b[39m result = vectorized_func(*squeezed_args)\n\u001b[32m    349\u001b[39m \u001b[38;5;28;01mif\u001b[39;00m \u001b[38;5;129;01mnot\u001b[39;00m dims_to_expand:\n",
      "\u001b[36mFile \u001b[39m\u001b[32m~/src/spscml_dlr/.venv/lib/python3.11/site-packages/jax/_src/numpy/vectorize.py:144\u001b[39m, in \u001b[36mwrapped\u001b[39m\u001b[34m()\u001b[39m\n\u001b[32m    143\u001b[39m \u001b[38;5;28;01mdef\u001b[39;00m\u001b[38;5;250m \u001b[39m\u001b[34mwrapped\u001b[39m(*args):\n\u001b[32m--> \u001b[39m\u001b[32m144\u001b[39m   out = func(*args)\n\u001b[32m    145\u001b[39m   out_shapes = \u001b[38;5;28mmap\u001b[39m(np.shape, out \u001b[38;5;28;01mif\u001b[39;00m \u001b[38;5;28misinstance\u001b[39m(out, \u001b[38;5;28mtuple\u001b[39m) \u001b[38;5;28;01melse\u001b[39;00m [out])\n",
      "\u001b[31mJaxStackTraceBeforeTransformation\u001b[39m: TypeError: Argument 'UndefinedPrimal(float64[1,1])' of type '<class 'jax._src.interpreters.ad.UndefinedPrimal'>' is not a valid JAX type\n\nThe preceding stack trace is the source of the JAX operation that, once transformed by JAX, triggered the following exception.\n\n--------------------",
      "\nThe above exception was the direct cause of the following exception:\n",
      "\u001b[31mTypeError\u001b[39m                                 Traceback (most recent call last)",
      "\u001b[36mCell\u001b[39m\u001b[36m \u001b[39m\u001b[32mIn[41]\u001b[39m\u001b[32m, line 10\u001b[39m\n\u001b[32m      6\u001b[39m         \u001b[38;5;28;01mreturn\u001b[39;00m jnp.linalg.solve(Jg, y[:, \u001b[38;5;28;01mNone\u001b[39;00m]).flatten()\n\u001b[32m      8\u001b[39m     \u001b[38;5;28;01mreturn\u001b[39;00m jax.lax.custom_root(f, jnp.array([\u001b[32m0.0\u001b[39m]), solve, my_tangent_solve)[\u001b[32m0\u001b[39m]\n\u001b[32m---> \u001b[39m\u001b[32m10\u001b[39m \u001b[43mjax\u001b[49m\u001b[43m.\u001b[49m\u001b[43mgrad\u001b[49m\u001b[43m(\u001b[49m\u001b[43mtest\u001b[49m\u001b[43m)\u001b[49m\u001b[43m(\u001b[49m\u001b[43m-\u001b[49m\u001b[32;43m30.0\u001b[39;49m\u001b[43m)\u001b[49m\n",
      "    \u001b[31m[... skipping hidden 27 frame]\u001b[39m\n",
      "\u001b[36mFile \u001b[39m\u001b[32m~/src/spscml_dlr/.venv/lib/python3.11/site-packages/jax/_src/core.py:1622\u001b[39m, in \u001b[36mget_aval\u001b[39m\u001b[34m(x)\u001b[39m\n\u001b[32m   1615\u001b[39m   deprecations.warn(\n\u001b[32m   1616\u001b[39m     \u001b[33m'\u001b[39m\u001b[33mjax-abstract-dunder-array\u001b[39m\u001b[33m'\u001b[39m,\n\u001b[32m   1617\u001b[39m     (\u001b[33m'\u001b[39m\u001b[33mTriggering of __jax_array__() during abstractification is deprecated.\u001b[39m\u001b[33m'\u001b[39m\n\u001b[32m   1618\u001b[39m      \u001b[33m'\u001b[39m\u001b[33m To avoid this error, either explicitly convert your object using\u001b[39m\u001b[33m'\u001b[39m\n\u001b[32m   1619\u001b[39m      \u001b[33m'\u001b[39m\u001b[33m jax.numpy.array(), or register your object as a pytree.\u001b[39m\u001b[33m'\u001b[39m),\n\u001b[32m   1620\u001b[39m     stacklevel=\u001b[32m6\u001b[39m)\n\u001b[32m   1621\u001b[39m   \u001b[38;5;28;01mreturn\u001b[39;00m get_aval(x.__jax_array__())\n\u001b[32m-> \u001b[39m\u001b[32m1622\u001b[39m \u001b[38;5;28;01mraise\u001b[39;00m \u001b[38;5;167;01mTypeError\u001b[39;00m(\u001b[33mf\u001b[39m\u001b[33m\"\u001b[39m\u001b[33mArgument \u001b[39m\u001b[33m'\u001b[39m\u001b[38;5;132;01m{\u001b[39;00mx\u001b[38;5;132;01m}\u001b[39;00m\u001b[33m'\u001b[39m\u001b[33m of type \u001b[39m\u001b[33m'\u001b[39m\u001b[38;5;132;01m{\u001b[39;00mtyp\u001b[38;5;132;01m}\u001b[39;00m\u001b[33m'\u001b[39m\u001b[33m is not a valid JAX type\u001b[39m\u001b[33m\"\u001b[39m)\n",
      "\u001b[31mTypeError\u001b[39m: Argument 'UndefinedPrimal(float64[1,1])' of type '<class 'jax._src.interpreters.ad.UndefinedPrimal'>' is not a valid JAX type"
     ]
    }
   ],
   "source": [
    "def test(target_Ip):\n",
    "    f = lambda V: Ip_of_V(V) - target_Ip\n",
    "    solve = lambda f, x: newton_solve(f, x, jac_f)\n",
    "    def my_tangent_solve(g, y):\n",
    "        Jg = jnp.atleast_2d(g(y) - g(jnp.array([0.0])) / y)\n",
    "        return jnp.linalg.solve(Jg, y[:, None]).flatten()\n",
    "        \n",
    "    return jax.lax.custom_root(f, jnp.array([0.0]), solve, my_tangent_solve)[0]\n",
    "    \n",
    "jax.grad(test)(-30.0)"
   ]
  },
  {
   "cell_type": "code",
   "execution_count": null,
   "id": "52dbeaae-4b31-4f7d-976e-827152e9ac42",
   "metadata": {},
   "outputs": [],
   "source": []
  },
  {
   "cell_type": "code",
   "execution_count": null,
   "id": "158dfb8f-178c-4236-a49d-08056658453e",
   "metadata": {},
   "outputs": [],
   "source": []
  },
  {
   "cell_type": "code",
   "execution_count": 10,
   "id": "83f2249c-fedc-4a01-902a-40ecfa08be73",
   "metadata": {},
   "outputs": [
    {
     "ename": "NotImplementedError",
     "evalue": "Batching rule for 'tesseract_dispatch' not implemented",
     "output_type": "error",
     "traceback": [
      "\u001b[31m---------------------------------------------------------------------------\u001b[39m",
      "\u001b[31mJaxStackTraceBeforeTransformation\u001b[39m         Traceback (most recent call last)",
      "\u001b[36mFile \u001b[39m\u001b[32m<frozen runpy>:198\u001b[39m, in \u001b[36m_run_module_as_main\u001b[39m\u001b[34m()\u001b[39m\n",
      "\u001b[36mFile \u001b[39m\u001b[32m<frozen runpy>:88\u001b[39m, in \u001b[36m_run_code\u001b[39m\u001b[34m()\u001b[39m\n",
      "\u001b[36mFile \u001b[39m\u001b[32m~/.cache/uv/archive-v0/C7NNiDw5Jkg1uZVqKE9GN/lib/python3.11/site-packages/ipykernel_launcher.py:18\u001b[39m\n\u001b[32m     16\u001b[39m \u001b[38;5;28;01mfrom\u001b[39;00m\u001b[38;5;250m \u001b[39m\u001b[34;01mipykernel\u001b[39;00m\u001b[38;5;250m \u001b[39m\u001b[38;5;28;01mimport\u001b[39;00m kernelapp \u001b[38;5;28;01mas\u001b[39;00m app\n\u001b[32m---> \u001b[39m\u001b[32m18\u001b[39m app.launch_new_instance()\n",
      "\u001b[36mFile \u001b[39m\u001b[32m~/.cache/uv/archive-v0/C7NNiDw5Jkg1uZVqKE9GN/lib/python3.11/site-packages/traitlets/config/application.py:1075\u001b[39m, in \u001b[36mlaunch_instance\u001b[39m\u001b[34m()\u001b[39m\n\u001b[32m   1074\u001b[39m app.initialize(argv)\n\u001b[32m-> \u001b[39m\u001b[32m1075\u001b[39m app.start()\n",
      "\u001b[36mFile \u001b[39m\u001b[32m~/.cache/uv/archive-v0/C7NNiDw5Jkg1uZVqKE9GN/lib/python3.11/site-packages/ipykernel/kernelapp.py:739\u001b[39m, in \u001b[36mstart\u001b[39m\u001b[34m()\u001b[39m\n\u001b[32m    738\u001b[39m \u001b[38;5;28;01mtry\u001b[39;00m:\n\u001b[32m--> \u001b[39m\u001b[32m739\u001b[39m     \u001b[38;5;28mself\u001b[39m.io_loop.start()\n\u001b[32m    740\u001b[39m \u001b[38;5;28;01mexcept\u001b[39;00m \u001b[38;5;167;01mKeyboardInterrupt\u001b[39;00m:\n",
      "\u001b[36mFile \u001b[39m\u001b[32m~/.cache/uv/archive-v0/C7NNiDw5Jkg1uZVqKE9GN/lib/python3.11/site-packages/tornado/platform/asyncio.py:211\u001b[39m, in \u001b[36mstart\u001b[39m\u001b[34m()\u001b[39m\n\u001b[32m    210\u001b[39m \u001b[38;5;28;01mdef\u001b[39;00m\u001b[38;5;250m \u001b[39m\u001b[34mstart\u001b[39m(\u001b[38;5;28mself\u001b[39m) -> \u001b[38;5;28;01mNone\u001b[39;00m:\n\u001b[32m--> \u001b[39m\u001b[32m211\u001b[39m     \u001b[38;5;28mself\u001b[39m.asyncio_loop.run_forever()\n",
      "\u001b[36mFile \u001b[39m\u001b[32m~/.local/share/uv/python/cpython-3.11.11-macos-aarch64-none/lib/python3.11/asyncio/base_events.py:608\u001b[39m, in \u001b[36mrun_forever\u001b[39m\u001b[34m()\u001b[39m\n\u001b[32m    607\u001b[39m \u001b[38;5;28;01mwhile\u001b[39;00m \u001b[38;5;28;01mTrue\u001b[39;00m:\n\u001b[32m--> \u001b[39m\u001b[32m608\u001b[39m     \u001b[38;5;28mself\u001b[39m._run_once()\n\u001b[32m    609\u001b[39m     \u001b[38;5;28;01mif\u001b[39;00m \u001b[38;5;28mself\u001b[39m._stopping:\n",
      "\u001b[36mFile \u001b[39m\u001b[32m~/.local/share/uv/python/cpython-3.11.11-macos-aarch64-none/lib/python3.11/asyncio/base_events.py:1936\u001b[39m, in \u001b[36m_run_once\u001b[39m\u001b[34m()\u001b[39m\n\u001b[32m   1935\u001b[39m     \u001b[38;5;28;01melse\u001b[39;00m:\n\u001b[32m-> \u001b[39m\u001b[32m1936\u001b[39m         handle._run()\n\u001b[32m   1937\u001b[39m handle = \u001b[38;5;28;01mNone\u001b[39;00m\n",
      "\u001b[36mFile \u001b[39m\u001b[32m~/.local/share/uv/python/cpython-3.11.11-macos-aarch64-none/lib/python3.11/asyncio/events.py:84\u001b[39m, in \u001b[36m_run\u001b[39m\u001b[34m()\u001b[39m\n\u001b[32m     83\u001b[39m \u001b[38;5;28;01mtry\u001b[39;00m:\n\u001b[32m---> \u001b[39m\u001b[32m84\u001b[39m     \u001b[38;5;28mself\u001b[39m._context.run(\u001b[38;5;28mself\u001b[39m._callback, *\u001b[38;5;28mself\u001b[39m._args)\n\u001b[32m     85\u001b[39m \u001b[38;5;28;01mexcept\u001b[39;00m (\u001b[38;5;167;01mSystemExit\u001b[39;00m, \u001b[38;5;167;01mKeyboardInterrupt\u001b[39;00m):\n",
      "\u001b[36mFile \u001b[39m\u001b[32m~/.cache/uv/archive-v0/C7NNiDw5Jkg1uZVqKE9GN/lib/python3.11/site-packages/ipykernel/kernelbase.py:545\u001b[39m, in \u001b[36mdispatch_queue\u001b[39m\u001b[34m()\u001b[39m\n\u001b[32m    544\u001b[39m \u001b[38;5;28;01mtry\u001b[39;00m:\n\u001b[32m--> \u001b[39m\u001b[32m545\u001b[39m     \u001b[38;5;28;01mawait\u001b[39;00m \u001b[38;5;28mself\u001b[39m.process_one()\n\u001b[32m    546\u001b[39m \u001b[38;5;28;01mexcept\u001b[39;00m \u001b[38;5;167;01mException\u001b[39;00m:\n",
      "\u001b[36mFile \u001b[39m\u001b[32m~/.cache/uv/archive-v0/C7NNiDw5Jkg1uZVqKE9GN/lib/python3.11/site-packages/ipykernel/kernelbase.py:534\u001b[39m, in \u001b[36mprocess_one\u001b[39m\u001b[34m()\u001b[39m\n\u001b[32m    533\u001b[39m         \u001b[38;5;28;01mreturn\u001b[39;00m\n\u001b[32m--> \u001b[39m\u001b[32m534\u001b[39m \u001b[38;5;28;01mawait\u001b[39;00m dispatch(*args)\n",
      "\u001b[36mFile \u001b[39m\u001b[32m~/.cache/uv/archive-v0/C7NNiDw5Jkg1uZVqKE9GN/lib/python3.11/site-packages/ipykernel/kernelbase.py:437\u001b[39m, in \u001b[36mdispatch_shell\u001b[39m\u001b[34m()\u001b[39m\n\u001b[32m    436\u001b[39m     \u001b[38;5;28;01mif\u001b[39;00m inspect.isawaitable(result):\n\u001b[32m--> \u001b[39m\u001b[32m437\u001b[39m         \u001b[38;5;28;01mawait\u001b[39;00m result\n\u001b[32m    438\u001b[39m \u001b[38;5;28;01mexcept\u001b[39;00m \u001b[38;5;167;01mException\u001b[39;00m:\n",
      "\u001b[36mFile \u001b[39m\u001b[32m~/.cache/uv/archive-v0/C7NNiDw5Jkg1uZVqKE9GN/lib/python3.11/site-packages/ipykernel/ipkernel.py:362\u001b[39m, in \u001b[36mexecute_request\u001b[39m\u001b[34m()\u001b[39m\n\u001b[32m    361\u001b[39m \u001b[38;5;28mself\u001b[39m._associate_new_top_level_threads_with(parent_header)\n\u001b[32m--> \u001b[39m\u001b[32m362\u001b[39m \u001b[38;5;28;01mawait\u001b[39;00m \u001b[38;5;28msuper\u001b[39m().execute_request(stream, ident, parent)\n",
      "\u001b[36mFile \u001b[39m\u001b[32m~/.cache/uv/archive-v0/C7NNiDw5Jkg1uZVqKE9GN/lib/python3.11/site-packages/ipykernel/kernelbase.py:778\u001b[39m, in \u001b[36mexecute_request\u001b[39m\u001b[34m()\u001b[39m\n\u001b[32m    777\u001b[39m \u001b[38;5;28;01mif\u001b[39;00m inspect.isawaitable(reply_content):\n\u001b[32m--> \u001b[39m\u001b[32m778\u001b[39m     reply_content = \u001b[38;5;28;01mawait\u001b[39;00m reply_content\n\u001b[32m    780\u001b[39m \u001b[38;5;66;03m# Flush output before sending the reply.\u001b[39;00m\n",
      "\u001b[36mFile \u001b[39m\u001b[32m~/.cache/uv/archive-v0/C7NNiDw5Jkg1uZVqKE9GN/lib/python3.11/site-packages/ipykernel/ipkernel.py:449\u001b[39m, in \u001b[36mdo_execute\u001b[39m\u001b[34m()\u001b[39m\n\u001b[32m    448\u001b[39m \u001b[38;5;28;01mif\u001b[39;00m accepts_params[\u001b[33m\"\u001b[39m\u001b[33mcell_id\u001b[39m\u001b[33m\"\u001b[39m]:\n\u001b[32m--> \u001b[39m\u001b[32m449\u001b[39m     res = shell.run_cell(\n\u001b[32m    450\u001b[39m         code,\n\u001b[32m    451\u001b[39m         store_history=store_history,\n\u001b[32m    452\u001b[39m         silent=silent,\n\u001b[32m    453\u001b[39m         cell_id=cell_id,\n\u001b[32m    454\u001b[39m     )\n\u001b[32m    455\u001b[39m \u001b[38;5;28;01melse\u001b[39;00m:\n",
      "\u001b[36mFile \u001b[39m\u001b[32m~/.cache/uv/archive-v0/C7NNiDw5Jkg1uZVqKE9GN/lib/python3.11/site-packages/ipykernel/zmqshell.py:549\u001b[39m, in \u001b[36mrun_cell\u001b[39m\u001b[34m()\u001b[39m\n\u001b[32m    548\u001b[39m \u001b[38;5;28mself\u001b[39m._last_traceback = \u001b[38;5;28;01mNone\u001b[39;00m\n\u001b[32m--> \u001b[39m\u001b[32m549\u001b[39m \u001b[38;5;28;01mreturn\u001b[39;00m \u001b[38;5;28msuper\u001b[39m().run_cell(*args, **kwargs)\n",
      "\u001b[36mFile \u001b[39m\u001b[32m~/.cache/uv/archive-v0/C7NNiDw5Jkg1uZVqKE9GN/lib/python3.11/site-packages/IPython/core/interactiveshell.py:3100\u001b[39m, in \u001b[36mrun_cell\u001b[39m\u001b[34m()\u001b[39m\n\u001b[32m   3099\u001b[39m \u001b[38;5;28;01mtry\u001b[39;00m:\n\u001b[32m-> \u001b[39m\u001b[32m3100\u001b[39m     result = \u001b[38;5;28mself\u001b[39m._run_cell(\n\u001b[32m   3101\u001b[39m         raw_cell, store_history, silent, shell_futures, cell_id\n\u001b[32m   3102\u001b[39m     )\n\u001b[32m   3103\u001b[39m \u001b[38;5;28;01mfinally\u001b[39;00m:\n",
      "\u001b[36mFile \u001b[39m\u001b[32m~/.cache/uv/archive-v0/C7NNiDw5Jkg1uZVqKE9GN/lib/python3.11/site-packages/IPython/core/interactiveshell.py:3155\u001b[39m, in \u001b[36m_run_cell\u001b[39m\u001b[34m()\u001b[39m\n\u001b[32m   3154\u001b[39m \u001b[38;5;28;01mtry\u001b[39;00m:\n\u001b[32m-> \u001b[39m\u001b[32m3155\u001b[39m     result = runner(coro)\n\u001b[32m   3156\u001b[39m \u001b[38;5;28;01mexcept\u001b[39;00m \u001b[38;5;167;01mBaseException\u001b[39;00m \u001b[38;5;28;01mas\u001b[39;00m e:\n",
      "\u001b[36mFile \u001b[39m\u001b[32m~/.cache/uv/archive-v0/C7NNiDw5Jkg1uZVqKE9GN/lib/python3.11/site-packages/IPython/core/async_helpers.py:128\u001b[39m, in \u001b[36m_pseudo_sync_runner\u001b[39m\u001b[34m()\u001b[39m\n\u001b[32m    127\u001b[39m \u001b[38;5;28;01mtry\u001b[39;00m:\n\u001b[32m--> \u001b[39m\u001b[32m128\u001b[39m     coro.send(\u001b[38;5;28;01mNone\u001b[39;00m)\n\u001b[32m    129\u001b[39m \u001b[38;5;28;01mexcept\u001b[39;00m \u001b[38;5;167;01mStopIteration\u001b[39;00m \u001b[38;5;28;01mas\u001b[39;00m exc:\n",
      "\u001b[36mFile \u001b[39m\u001b[32m~/.cache/uv/archive-v0/C7NNiDw5Jkg1uZVqKE9GN/lib/python3.11/site-packages/IPython/core/interactiveshell.py:3367\u001b[39m, in \u001b[36mrun_cell_async\u001b[39m\u001b[34m()\u001b[39m\n\u001b[32m   3364\u001b[39m interactivity = \u001b[33m\"\u001b[39m\u001b[33mnone\u001b[39m\u001b[33m\"\u001b[39m \u001b[38;5;28;01mif\u001b[39;00m silent \u001b[38;5;28;01melse\u001b[39;00m \u001b[38;5;28mself\u001b[39m.ast_node_interactivity\n\u001b[32m-> \u001b[39m\u001b[32m3367\u001b[39m has_raised = \u001b[38;5;28;01mawait\u001b[39;00m \u001b[38;5;28mself\u001b[39m.run_ast_nodes(code_ast.body, cell_name,\n\u001b[32m   3368\u001b[39m        interactivity=interactivity, compiler=compiler, result=result)\n\u001b[32m   3370\u001b[39m \u001b[38;5;28mself\u001b[39m.last_execution_succeeded = \u001b[38;5;129;01mnot\u001b[39;00m has_raised\n",
      "\u001b[36mFile \u001b[39m\u001b[32m~/.cache/uv/archive-v0/C7NNiDw5Jkg1uZVqKE9GN/lib/python3.11/site-packages/IPython/core/interactiveshell.py:3612\u001b[39m, in \u001b[36mrun_ast_nodes\u001b[39m\u001b[34m()\u001b[39m\n\u001b[32m   3611\u001b[39m     asy = compare(code)\n\u001b[32m-> \u001b[39m\u001b[32m3612\u001b[39m \u001b[38;5;28;01mif\u001b[39;00m \u001b[38;5;28;01mawait\u001b[39;00m \u001b[38;5;28mself\u001b[39m.run_code(code, result, async_=asy):\n\u001b[32m   3613\u001b[39m     \u001b[38;5;28;01mreturn\u001b[39;00m \u001b[38;5;28;01mTrue\u001b[39;00m\n",
      "\u001b[36mFile \u001b[39m\u001b[32m~/.cache/uv/archive-v0/C7NNiDw5Jkg1uZVqKE9GN/lib/python3.11/site-packages/IPython/core/interactiveshell.py:3672\u001b[39m, in \u001b[36mrun_code\u001b[39m\u001b[34m()\u001b[39m\n\u001b[32m   3671\u001b[39m     \u001b[38;5;28;01melse\u001b[39;00m:\n\u001b[32m-> \u001b[39m\u001b[32m3672\u001b[39m         exec(code_obj, \u001b[38;5;28mself\u001b[39m.user_global_ns, \u001b[38;5;28mself\u001b[39m.user_ns)\n\u001b[32m   3673\u001b[39m \u001b[38;5;28;01mfinally\u001b[39;00m:\n\u001b[32m   3674\u001b[39m     \u001b[38;5;66;03m# Reset our crash handler in place\u001b[39;00m\n",
      "\u001b[36mCell\u001b[39m\u001b[36m \u001b[39m\u001b[32mIn[10]\u001b[39m\u001b[32m, line 26\u001b[39m\n\u001b[32m     24\u001b[39m     jax.jacobian(Ip_of_V)(jnp.array([target_Ip]))\n\u001b[32m---> \u001b[39m\u001b[32m26\u001b[39m Vp = test(-\u001b[32m50.0\u001b[39m)\n",
      "\u001b[36mCell\u001b[39m\u001b[36m \u001b[39m\u001b[32mIn[10]\u001b[39m\u001b[32m, line 24\u001b[39m, in \u001b[36mtest\u001b[39m\u001b[34m()\u001b[39m\n\u001b[32m     23\u001b[39m f = \u001b[38;5;28;01mlambda\u001b[39;00m V: Ip_of_V(V) - target_Ip\n\u001b[32m---> \u001b[39m\u001b[32m24\u001b[39m jax.jacobian(Ip_of_V)(jnp.array([target_Ip]))\n",
      "\u001b[36mCell\u001b[39m\u001b[36m \u001b[39m\u001b[32mIn[10]\u001b[39m\u001b[32m, line 15\u001b[39m, in \u001b[36mIp_of_V\u001b[39m\u001b[34m()\u001b[39m\n\u001b[32m     14\u001b[39m V = y[\u001b[32m0\u001b[39m]\n\u001b[32m---> \u001b[39m\u001b[32m15\u001b[39m Ip = apply_tesseract(tx, {\u001b[33m\"\u001b[39m\u001b[33mN\u001b[39m\u001b[33m\"\u001b[39m: array(\u001b[32m1e18\u001b[39m), \n\u001b[32m     16\u001b[39m                                      \u001b[33m\"\u001b[39m\u001b[33mn\u001b[39m\u001b[33m\"\u001b[39m: array(\u001b[32m1.1e22\u001b[39m), \n\u001b[32m     17\u001b[39m                                      \u001b[33m\"\u001b[39m\u001b[33mT\u001b[39m\u001b[33m\"\u001b[39m: array(\u001b[32m2e1\u001b[39m), \n\u001b[32m     18\u001b[39m                                      \u001b[33m\"\u001b[39m\u001b[33mVp\u001b[39m\u001b[33m\"\u001b[39m: array(V), \n\u001b[32m     19\u001b[39m                                      \u001b[33m\"\u001b[39m\u001b[33mLz\u001b[39m\u001b[33m\"\u001b[39m: array(\u001b[32m2.5\u001b[39m) })[\u001b[33m\"\u001b[39m\u001b[33mIp\u001b[39m\u001b[33m\"\u001b[39m]\n\u001b[32m     20\u001b[39m \u001b[38;5;28;01mreturn\u001b[39;00m jnp.array([Ip])\n",
      "\u001b[36mFile \u001b[39m\u001b[32m~/src/spscml_dlr/.venv/lib/python3.11/site-packages/tesseract_jax/primitive.py:346\u001b[39m, in \u001b[36mapply_tesseract\u001b[39m\u001b[34m()\u001b[39m\n\u001b[32m    345\u001b[39m \u001b[38;5;66;03m# Apply the primitive\u001b[39;00m\n\u001b[32m--> \u001b[39m\u001b[32m346\u001b[39m out = tesseract_dispatch_p.bind(\n\u001b[32m    347\u001b[39m     *array_args,\n\u001b[32m    348\u001b[39m     static_args=static_args,\n\u001b[32m    349\u001b[39m     input_pytreedef=input_pytreedef,\n\u001b[32m    350\u001b[39m     output_pytreedef=output_pytreedef,\n\u001b[32m    351\u001b[39m     output_avals=flat_avals,\n\u001b[32m    352\u001b[39m     is_static_mask=is_static_mask,\n\u001b[32m    353\u001b[39m     client=client,\n\u001b[32m    354\u001b[39m     eval_func=\u001b[33m\"\u001b[39m\u001b[33mapply\u001b[39m\u001b[33m\"\u001b[39m,\n\u001b[32m    355\u001b[39m )\n\u001b[32m    357\u001b[39m \u001b[38;5;66;03m# Unflatten the output\u001b[39;00m\n",
      "\u001b[36mFile \u001b[39m\u001b[32m~/src/spscml_dlr/.venv/lib/python3.11/site-packages/tesseract_jax/primitive.py:119\u001b[39m, in \u001b[36mtesseract_dispatch_jvp_rule\u001b[39m\u001b[34m()\u001b[39m\n\u001b[32m    110\u001b[39m tan_args_ = \u001b[38;5;28mtuple\u001b[39m(\n\u001b[32m    111\u001b[39m     (\n\u001b[32m    112\u001b[39m         jax.numpy.zeros_like(arg.aval)\n\u001b[32m   (...)\u001b[39m\u001b[32m    116\u001b[39m     \u001b[38;5;28;01mfor\u001b[39;00m arg \u001b[38;5;129;01min\u001b[39;00m tan_args\n\u001b[32m    117\u001b[39m )\n\u001b[32m--> \u001b[39m\u001b[32m119\u001b[39m jvp = tesseract_dispatch_p.bind(\n\u001b[32m    120\u001b[39m     *in_args,\n\u001b[32m    121\u001b[39m     *tan_args_,\n\u001b[32m    122\u001b[39m     static_args=static_args,\n\u001b[32m    123\u001b[39m     input_pytreedef=input_pytreedef,\n\u001b[32m    124\u001b[39m     output_pytreedef=output_pytreedef,\n\u001b[32m    125\u001b[39m     output_avals=output_avals,\n\u001b[32m    126\u001b[39m     is_static_mask=is_static_mask,\n\u001b[32m    127\u001b[39m     client=client,\n\u001b[32m    128\u001b[39m     eval_func=\u001b[33m\"\u001b[39m\u001b[33mjacobian_vector_product\u001b[39m\u001b[33m\"\u001b[39m,\n\u001b[32m    129\u001b[39m )\n\u001b[32m    131\u001b[39m res = tesseract_dispatch_p.bind(\n\u001b[32m    132\u001b[39m     *in_args,\n\u001b[32m    133\u001b[39m     static_args=static_args,\n\u001b[32m   (...)\u001b[39m\u001b[32m    139\u001b[39m     eval_func=\u001b[33m\"\u001b[39m\u001b[33mapply\u001b[39m\u001b[33m\"\u001b[39m,\n\u001b[32m    140\u001b[39m )\n",
      "\u001b[31mJaxStackTraceBeforeTransformation\u001b[39m: NotImplementedError: Batching rule for 'tesseract_dispatch' not implemented\n\nThe preceding stack trace is the source of the JAX operation that, once transformed by JAX, triggered the following exception.\n\n--------------------",
      "\nThe above exception was the direct cause of the following exception:\n",
      "\u001b[31mNotImplementedError\u001b[39m                       Traceback (most recent call last)",
      "\u001b[36mCell\u001b[39m\u001b[36m \u001b[39m\u001b[32mIn[10]\u001b[39m\u001b[32m, line 26\u001b[39m\n\u001b[32m     23\u001b[39m     f = \u001b[38;5;28;01mlambda\u001b[39;00m V: Ip_of_V(V) - target_Ip\n\u001b[32m     24\u001b[39m     jax.jacobian(Ip_of_V)(jnp.array([target_Ip]))\n\u001b[32m---> \u001b[39m\u001b[32m26\u001b[39m Vp = \u001b[43mtest\u001b[49m\u001b[43m(\u001b[49m\u001b[43m-\u001b[49m\u001b[32;43m50.0\u001b[39;49m\u001b[43m)\u001b[49m\n",
      "\u001b[36mCell\u001b[39m\u001b[36m \u001b[39m\u001b[32mIn[10]\u001b[39m\u001b[32m, line 24\u001b[39m, in \u001b[36mtest\u001b[39m\u001b[34m(target_Ip)\u001b[39m\n\u001b[32m     22\u001b[39m \u001b[38;5;28;01mdef\u001b[39;00m\u001b[38;5;250m \u001b[39m\u001b[34mtest\u001b[39m(target_Ip):\n\u001b[32m     23\u001b[39m     f = \u001b[38;5;28;01mlambda\u001b[39;00m V: Ip_of_V(V) - target_Ip\n\u001b[32m---> \u001b[39m\u001b[32m24\u001b[39m     \u001b[43mjax\u001b[49m\u001b[43m.\u001b[49m\u001b[43mjacobian\u001b[49m\u001b[43m(\u001b[49m\u001b[43mIp_of_V\u001b[49m\u001b[43m)\u001b[49m\u001b[43m(\u001b[49m\u001b[43mjnp\u001b[49m\u001b[43m.\u001b[49m\u001b[43marray\u001b[49m\u001b[43m(\u001b[49m\u001b[43m[\u001b[49m\u001b[43mtarget_Ip\u001b[49m\u001b[43m]\u001b[49m\u001b[43m)\u001b[49m\u001b[43m)\u001b[49m\n",
      "\u001b[36mFile \u001b[39m\u001b[32m~/src/spscml_dlr/.venv/lib/python3.11/site-packages/jax/_src/api.py:800\u001b[39m, in \u001b[36mjacrev.<locals>.jacfun\u001b[39m\u001b[34m(*args, **kwargs)\u001b[39m\n\u001b[32m    798\u001b[39m   y, pullback, aux = _vjp(f_partial, *dyn_args, has_aux=\u001b[38;5;28;01mTrue\u001b[39;00m)\n\u001b[32m    799\u001b[39m tree_map(partial(_check_output_dtype_jacrev, holomorphic), y)\n\u001b[32m--> \u001b[39m\u001b[32m800\u001b[39m jac = \u001b[43mvmap\u001b[49m\u001b[43m(\u001b[49m\u001b[43mpullback\u001b[49m\u001b[43m)\u001b[49m\u001b[43m(\u001b[49m\u001b[43m_std_basis\u001b[49m\u001b[43m(\u001b[49m\u001b[43my\u001b[49m\u001b[43m)\u001b[49m\u001b[43m)\u001b[49m\n\u001b[32m    801\u001b[39m jac = jac[\u001b[32m0\u001b[39m] \u001b[38;5;28;01mif\u001b[39;00m \u001b[38;5;28misinstance\u001b[39m(argnums, \u001b[38;5;28mint\u001b[39m) \u001b[38;5;28;01melse\u001b[39;00m jac\n\u001b[32m    802\u001b[39m example_args = dyn_args[\u001b[32m0\u001b[39m] \u001b[38;5;28;01mif\u001b[39;00m \u001b[38;5;28misinstance\u001b[39m(argnums, \u001b[38;5;28mint\u001b[39m) \u001b[38;5;28;01melse\u001b[39;00m dyn_args\n",
      "    \u001b[31m[... skipping hidden 13 frame]\u001b[39m\n",
      "\u001b[36mFile \u001b[39m\u001b[32m~/src/spscml_dlr/.venv/lib/python3.11/site-packages/tesseract_jax/primitive.py:174\u001b[39m, in \u001b[36mtesseract_dispatch_transpose_rule\u001b[39m\u001b[34m(cotangent, static_args, input_pytreedef, output_pytreedef, output_avals, is_static_mask, client, eval_func, *args)\u001b[39m\n\u001b[32m    163\u001b[39m args = args[:n_primals]\n\u001b[32m    165\u001b[39m cotan_args_ = \u001b[38;5;28mtuple\u001b[39m(\n\u001b[32m    166\u001b[39m     (\n\u001b[32m    167\u001b[39m         jax.numpy.zeros_like(arg.aval)\n\u001b[32m   (...)\u001b[39m\u001b[32m    171\u001b[39m     \u001b[38;5;28;01mfor\u001b[39;00m arg \u001b[38;5;129;01min\u001b[39;00m cotangent\n\u001b[32m    172\u001b[39m )\n\u001b[32m--> \u001b[39m\u001b[32m174\u001b[39m vjp = \u001b[43mtesseract_dispatch_p\u001b[49m\u001b[43m.\u001b[49m\u001b[43mbind\u001b[49m\u001b[43m(\u001b[49m\n\u001b[32m    175\u001b[39m \u001b[43m    \u001b[49m\u001b[43m*\u001b[49m\u001b[43margs\u001b[49m\u001b[43m,\u001b[49m\n\u001b[32m    176\u001b[39m \u001b[43m    \u001b[49m\u001b[43m*\u001b[49m\u001b[43mcotan_args_\u001b[49m\u001b[43m,\u001b[49m\n\u001b[32m    177\u001b[39m \u001b[43m    \u001b[49m\u001b[43mstatic_args\u001b[49m\u001b[43m=\u001b[49m\u001b[43mstatic_args\u001b[49m\u001b[43m,\u001b[49m\n\u001b[32m    178\u001b[39m \u001b[43m    \u001b[49m\u001b[43minput_pytreedef\u001b[49m\u001b[43m=\u001b[49m\u001b[43minput_pytreedef\u001b[49m\u001b[43m,\u001b[49m\n\u001b[32m    179\u001b[39m \u001b[43m    \u001b[49m\u001b[43moutput_pytreedef\u001b[49m\u001b[43m=\u001b[49m\u001b[43moutput_pytreedef\u001b[49m\u001b[43m,\u001b[49m\n\u001b[32m    180\u001b[39m \u001b[43m    \u001b[49m\u001b[43moutput_avals\u001b[49m\u001b[43m=\u001b[49m\u001b[43moutput_avals\u001b[49m\u001b[43m,\u001b[49m\n\u001b[32m    181\u001b[39m \u001b[43m    \u001b[49m\u001b[43mis_static_mask\u001b[49m\u001b[43m=\u001b[49m\u001b[43mis_static_mask\u001b[49m\u001b[43m,\u001b[49m\n\u001b[32m    182\u001b[39m \u001b[43m    \u001b[49m\u001b[43mclient\u001b[49m\u001b[43m=\u001b[49m\u001b[43mclient\u001b[49m\u001b[43m,\u001b[49m\n\u001b[32m    183\u001b[39m \u001b[43m    \u001b[49m\u001b[43meval_func\u001b[49m\u001b[43m=\u001b[49m\u001b[33;43m\"\u001b[39;49m\u001b[33;43mvector_jacobian_product\u001b[39;49m\u001b[33;43m\"\u001b[39;49m\u001b[43m,\u001b[49m\n\u001b[32m    184\u001b[39m \u001b[43m\u001b[49m\u001b[43m)\u001b[49m\n\u001b[32m    185\u001b[39m \u001b[38;5;66;03m# TODO: I'm not sure this makes sense given these docs:\u001b[39;00m\n\u001b[32m    186\u001b[39m \u001b[38;5;66;03m#       https://jax.readthedocs.io/en/latest/jax-primitives.html#transposition\u001b[39;00m\n\u001b[32m    187\u001b[39m \u001b[38;5;66;03m#       \"A tuple with the cotangent of the inputs, with the value None corresponding to the constant arguments\"\u001b[39;00m\n\u001b[32m    188\u001b[39m \u001b[38;5;66;03m#       ...but if I provide only cotangent, jax complains, and if I investigate its internals,\u001b[39;00m\n\u001b[32m    189\u001b[39m \u001b[38;5;66;03m#       I see it chokes on map(partial(write_cotangent, eqn.primitive), eqn.invars, cts_out),\u001b[39;00m\n\u001b[32m    190\u001b[39m \u001b[38;5;66;03m#       where eqn.invars ends up being longer than cts_out.\u001b[39;00m\n\u001b[32m    192\u001b[39m \u001b[38;5;28;01mreturn\u001b[39;00m \u001b[38;5;28mtuple\u001b[39m([\u001b[38;5;28;01mNone\u001b[39;00m] * \u001b[38;5;28mlen\u001b[39m(args) + vjp)\n",
      "    \u001b[31m[... skipping hidden 3 frame]\u001b[39m\n",
      "\u001b[36mFile \u001b[39m\u001b[32m~/src/spscml_dlr/.venv/lib/python3.11/site-packages/jax/_src/interpreters/batching.py:505\u001b[39m, in \u001b[36mBatchTrace.process_primitive\u001b[39m\u001b[34m(self, p, tracers, params)\u001b[39m\n\u001b[32m    503\u001b[39m     val_out, dim_out = primitive_batchers[p](vals_in, dims_in, **params)\n\u001b[32m    504\u001b[39m \u001b[38;5;28;01melse\u001b[39;00m:\n\u001b[32m--> \u001b[39m\u001b[32m505\u001b[39m   \u001b[38;5;28;01mraise\u001b[39;00m \u001b[38;5;167;01mNotImplementedError\u001b[39;00m(\u001b[33m\"\u001b[39m\u001b[33mBatching rule for \u001b[39m\u001b[33m'\u001b[39m\u001b[38;5;132;01m{}\u001b[39;00m\u001b[33m'\u001b[39m\u001b[33m not implemented\u001b[39m\u001b[33m\"\u001b[39m.format(p))\n\u001b[32m    506\u001b[39m src = source_info_util.current()\n\u001b[32m    507\u001b[39m \u001b[38;5;28;01mif\u001b[39;00m p.multiple_results:\n",
      "\u001b[31mNotImplementedError\u001b[39m: Batching rule for 'tesseract_dispatch' not implemented"
     ]
    }
   ],
   "source": [
    "def newton_solve(f, x0):\n",
    "    def newton_step(x):\n",
    "        f_val, f_vjp = jax.vjp(f, x)\n",
    "        Jf = jnp.stack([f_vjp(jnp.array([1.]))[0]], axis=1).T\n",
    "        return x - jnp.linalg.solve(Jf, f(x)[:, None]).flatten()\n",
    "\n",
    "    return jax.lax.while_loop(lambda x: jnp.all(jnp.abs(f(x)) > 1e-10),\n",
    "                              newton_step,\n",
    "                              x0)\n",
    "    \n",
    "\n",
    "with Tesseract.from_tesseract_api(tx_api) as tx:\n",
    "    def Ip_of_V(y):\n",
    "        V = y[0]\n",
    "        Ip = apply_tesseract(tx, {\"N\": array(1e18), \n",
    "                                             \"n\": array(1.1e22), \n",
    "                                             \"T\": array(2e1), \n",
    "                                             \"Vp\": array(V), \n",
    "                                             \"Lz\": array(2.5) })[\"Ip\"]\n",
    "        return jnp.array([Ip])\n",
    "\n",
    "    def test(target_Ip):\n",
    "        f = lambda V: Ip_of_V(V) - target_Ip\n",
    "        jax.jacobian(Ip_of_V)(jnp.array([target_Ip]))\n",
    "                \n",
    "    Vp = test(-50.0)"
   ]
  },
  {
   "cell_type": "code",
   "execution_count": 13,
   "id": "dc157260-98d3-4cb8-bb8f-284639ac033d",
   "metadata": {},
   "outputs": [
    {
     "ename": "NotImplementedError",
     "evalue": "Batching rule for 'tesseract_dispatch' not implemented",
     "output_type": "error",
     "traceback": [
      "\u001b[31m---------------------------------------------------------------------------\u001b[39m",
      "\u001b[31mJaxStackTraceBeforeTransformation\u001b[39m         Traceback (most recent call last)",
      "\u001b[36mFile \u001b[39m\u001b[32m<frozen runpy>:198\u001b[39m, in \u001b[36m_run_module_as_main\u001b[39m\u001b[34m()\u001b[39m\n",
      "\u001b[36mFile \u001b[39m\u001b[32m<frozen runpy>:88\u001b[39m, in \u001b[36m_run_code\u001b[39m\u001b[34m()\u001b[39m\n",
      "\u001b[36mFile \u001b[39m\u001b[32m~/.cache/uv/archive-v0/C7NNiDw5Jkg1uZVqKE9GN/lib/python3.11/site-packages/ipykernel_launcher.py:18\u001b[39m\n\u001b[32m     16\u001b[39m \u001b[38;5;28;01mfrom\u001b[39;00m\u001b[38;5;250m \u001b[39m\u001b[34;01mipykernel\u001b[39;00m\u001b[38;5;250m \u001b[39m\u001b[38;5;28;01mimport\u001b[39;00m kernelapp \u001b[38;5;28;01mas\u001b[39;00m app\n\u001b[32m---> \u001b[39m\u001b[32m18\u001b[39m app.launch_new_instance()\n",
      "\u001b[36mFile \u001b[39m\u001b[32m~/.cache/uv/archive-v0/C7NNiDw5Jkg1uZVqKE9GN/lib/python3.11/site-packages/traitlets/config/application.py:1075\u001b[39m, in \u001b[36mlaunch_instance\u001b[39m\u001b[34m()\u001b[39m\n\u001b[32m   1074\u001b[39m app.initialize(argv)\n\u001b[32m-> \u001b[39m\u001b[32m1075\u001b[39m app.start()\n",
      "\u001b[36mFile \u001b[39m\u001b[32m~/.cache/uv/archive-v0/C7NNiDw5Jkg1uZVqKE9GN/lib/python3.11/site-packages/ipykernel/kernelapp.py:739\u001b[39m, in \u001b[36mstart\u001b[39m\u001b[34m()\u001b[39m\n\u001b[32m    738\u001b[39m \u001b[38;5;28;01mtry\u001b[39;00m:\n\u001b[32m--> \u001b[39m\u001b[32m739\u001b[39m     \u001b[38;5;28mself\u001b[39m.io_loop.start()\n\u001b[32m    740\u001b[39m \u001b[38;5;28;01mexcept\u001b[39;00m \u001b[38;5;167;01mKeyboardInterrupt\u001b[39;00m:\n",
      "\u001b[36mFile \u001b[39m\u001b[32m~/.cache/uv/archive-v0/C7NNiDw5Jkg1uZVqKE9GN/lib/python3.11/site-packages/tornado/platform/asyncio.py:211\u001b[39m, in \u001b[36mstart\u001b[39m\u001b[34m()\u001b[39m\n\u001b[32m    210\u001b[39m \u001b[38;5;28;01mdef\u001b[39;00m\u001b[38;5;250m \u001b[39m\u001b[34mstart\u001b[39m(\u001b[38;5;28mself\u001b[39m) -> \u001b[38;5;28;01mNone\u001b[39;00m:\n\u001b[32m--> \u001b[39m\u001b[32m211\u001b[39m     \u001b[38;5;28mself\u001b[39m.asyncio_loop.run_forever()\n",
      "\u001b[36mFile \u001b[39m\u001b[32m~/.local/share/uv/python/cpython-3.11.11-macos-aarch64-none/lib/python3.11/asyncio/base_events.py:608\u001b[39m, in \u001b[36mrun_forever\u001b[39m\u001b[34m()\u001b[39m\n\u001b[32m    607\u001b[39m \u001b[38;5;28;01mwhile\u001b[39;00m \u001b[38;5;28;01mTrue\u001b[39;00m:\n\u001b[32m--> \u001b[39m\u001b[32m608\u001b[39m     \u001b[38;5;28mself\u001b[39m._run_once()\n\u001b[32m    609\u001b[39m     \u001b[38;5;28;01mif\u001b[39;00m \u001b[38;5;28mself\u001b[39m._stopping:\n",
      "\u001b[36mFile \u001b[39m\u001b[32m~/.local/share/uv/python/cpython-3.11.11-macos-aarch64-none/lib/python3.11/asyncio/base_events.py:1936\u001b[39m, in \u001b[36m_run_once\u001b[39m\u001b[34m()\u001b[39m\n\u001b[32m   1935\u001b[39m     \u001b[38;5;28;01melse\u001b[39;00m:\n\u001b[32m-> \u001b[39m\u001b[32m1936\u001b[39m         handle._run()\n\u001b[32m   1937\u001b[39m handle = \u001b[38;5;28;01mNone\u001b[39;00m\n",
      "\u001b[36mFile \u001b[39m\u001b[32m~/.local/share/uv/python/cpython-3.11.11-macos-aarch64-none/lib/python3.11/asyncio/events.py:84\u001b[39m, in \u001b[36m_run\u001b[39m\u001b[34m()\u001b[39m\n\u001b[32m     83\u001b[39m \u001b[38;5;28;01mtry\u001b[39;00m:\n\u001b[32m---> \u001b[39m\u001b[32m84\u001b[39m     \u001b[38;5;28mself\u001b[39m._context.run(\u001b[38;5;28mself\u001b[39m._callback, *\u001b[38;5;28mself\u001b[39m._args)\n\u001b[32m     85\u001b[39m \u001b[38;5;28;01mexcept\u001b[39;00m (\u001b[38;5;167;01mSystemExit\u001b[39;00m, \u001b[38;5;167;01mKeyboardInterrupt\u001b[39;00m):\n",
      "\u001b[36mFile \u001b[39m\u001b[32m~/.cache/uv/archive-v0/C7NNiDw5Jkg1uZVqKE9GN/lib/python3.11/site-packages/ipykernel/kernelbase.py:545\u001b[39m, in \u001b[36mdispatch_queue\u001b[39m\u001b[34m()\u001b[39m\n\u001b[32m    544\u001b[39m \u001b[38;5;28;01mtry\u001b[39;00m:\n\u001b[32m--> \u001b[39m\u001b[32m545\u001b[39m     \u001b[38;5;28;01mawait\u001b[39;00m \u001b[38;5;28mself\u001b[39m.process_one()\n\u001b[32m    546\u001b[39m \u001b[38;5;28;01mexcept\u001b[39;00m \u001b[38;5;167;01mException\u001b[39;00m:\n",
      "\u001b[36mFile \u001b[39m\u001b[32m~/.cache/uv/archive-v0/C7NNiDw5Jkg1uZVqKE9GN/lib/python3.11/site-packages/ipykernel/kernelbase.py:534\u001b[39m, in \u001b[36mprocess_one\u001b[39m\u001b[34m()\u001b[39m\n\u001b[32m    533\u001b[39m         \u001b[38;5;28;01mreturn\u001b[39;00m\n\u001b[32m--> \u001b[39m\u001b[32m534\u001b[39m \u001b[38;5;28;01mawait\u001b[39;00m dispatch(*args)\n",
      "\u001b[36mFile \u001b[39m\u001b[32m~/.cache/uv/archive-v0/C7NNiDw5Jkg1uZVqKE9GN/lib/python3.11/site-packages/ipykernel/kernelbase.py:437\u001b[39m, in \u001b[36mdispatch_shell\u001b[39m\u001b[34m()\u001b[39m\n\u001b[32m    436\u001b[39m     \u001b[38;5;28;01mif\u001b[39;00m inspect.isawaitable(result):\n\u001b[32m--> \u001b[39m\u001b[32m437\u001b[39m         \u001b[38;5;28;01mawait\u001b[39;00m result\n\u001b[32m    438\u001b[39m \u001b[38;5;28;01mexcept\u001b[39;00m \u001b[38;5;167;01mException\u001b[39;00m:\n",
      "\u001b[36mFile \u001b[39m\u001b[32m~/.cache/uv/archive-v0/C7NNiDw5Jkg1uZVqKE9GN/lib/python3.11/site-packages/ipykernel/ipkernel.py:362\u001b[39m, in \u001b[36mexecute_request\u001b[39m\u001b[34m()\u001b[39m\n\u001b[32m    361\u001b[39m \u001b[38;5;28mself\u001b[39m._associate_new_top_level_threads_with(parent_header)\n\u001b[32m--> \u001b[39m\u001b[32m362\u001b[39m \u001b[38;5;28;01mawait\u001b[39;00m \u001b[38;5;28msuper\u001b[39m().execute_request(stream, ident, parent)\n",
      "\u001b[36mFile \u001b[39m\u001b[32m~/.cache/uv/archive-v0/C7NNiDw5Jkg1uZVqKE9GN/lib/python3.11/site-packages/ipykernel/kernelbase.py:778\u001b[39m, in \u001b[36mexecute_request\u001b[39m\u001b[34m()\u001b[39m\n\u001b[32m    777\u001b[39m \u001b[38;5;28;01mif\u001b[39;00m inspect.isawaitable(reply_content):\n\u001b[32m--> \u001b[39m\u001b[32m778\u001b[39m     reply_content = \u001b[38;5;28;01mawait\u001b[39;00m reply_content\n\u001b[32m    780\u001b[39m \u001b[38;5;66;03m# Flush output before sending the reply.\u001b[39;00m\n",
      "\u001b[36mFile \u001b[39m\u001b[32m~/.cache/uv/archive-v0/C7NNiDw5Jkg1uZVqKE9GN/lib/python3.11/site-packages/ipykernel/ipkernel.py:449\u001b[39m, in \u001b[36mdo_execute\u001b[39m\u001b[34m()\u001b[39m\n\u001b[32m    448\u001b[39m \u001b[38;5;28;01mif\u001b[39;00m accepts_params[\u001b[33m\"\u001b[39m\u001b[33mcell_id\u001b[39m\u001b[33m\"\u001b[39m]:\n\u001b[32m--> \u001b[39m\u001b[32m449\u001b[39m     res = shell.run_cell(\n\u001b[32m    450\u001b[39m         code,\n\u001b[32m    451\u001b[39m         store_history=store_history,\n\u001b[32m    452\u001b[39m         silent=silent,\n\u001b[32m    453\u001b[39m         cell_id=cell_id,\n\u001b[32m    454\u001b[39m     )\n\u001b[32m    455\u001b[39m \u001b[38;5;28;01melse\u001b[39;00m:\n",
      "\u001b[36mFile \u001b[39m\u001b[32m~/.cache/uv/archive-v0/C7NNiDw5Jkg1uZVqKE9GN/lib/python3.11/site-packages/ipykernel/zmqshell.py:549\u001b[39m, in \u001b[36mrun_cell\u001b[39m\u001b[34m()\u001b[39m\n\u001b[32m    548\u001b[39m \u001b[38;5;28mself\u001b[39m._last_traceback = \u001b[38;5;28;01mNone\u001b[39;00m\n\u001b[32m--> \u001b[39m\u001b[32m549\u001b[39m \u001b[38;5;28;01mreturn\u001b[39;00m \u001b[38;5;28msuper\u001b[39m().run_cell(*args, **kwargs)\n",
      "\u001b[36mFile \u001b[39m\u001b[32m~/.cache/uv/archive-v0/C7NNiDw5Jkg1uZVqKE9GN/lib/python3.11/site-packages/IPython/core/interactiveshell.py:3100\u001b[39m, in \u001b[36mrun_cell\u001b[39m\u001b[34m()\u001b[39m\n\u001b[32m   3099\u001b[39m \u001b[38;5;28;01mtry\u001b[39;00m:\n\u001b[32m-> \u001b[39m\u001b[32m3100\u001b[39m     result = \u001b[38;5;28mself\u001b[39m._run_cell(\n\u001b[32m   3101\u001b[39m         raw_cell, store_history, silent, shell_futures, cell_id\n\u001b[32m   3102\u001b[39m     )\n\u001b[32m   3103\u001b[39m \u001b[38;5;28;01mfinally\u001b[39;00m:\n",
      "\u001b[36mFile \u001b[39m\u001b[32m~/.cache/uv/archive-v0/C7NNiDw5Jkg1uZVqKE9GN/lib/python3.11/site-packages/IPython/core/interactiveshell.py:3155\u001b[39m, in \u001b[36m_run_cell\u001b[39m\u001b[34m()\u001b[39m\n\u001b[32m   3154\u001b[39m \u001b[38;5;28;01mtry\u001b[39;00m:\n\u001b[32m-> \u001b[39m\u001b[32m3155\u001b[39m     result = runner(coro)\n\u001b[32m   3156\u001b[39m \u001b[38;5;28;01mexcept\u001b[39;00m \u001b[38;5;167;01mBaseException\u001b[39;00m \u001b[38;5;28;01mas\u001b[39;00m e:\n",
      "\u001b[36mFile \u001b[39m\u001b[32m~/.cache/uv/archive-v0/C7NNiDw5Jkg1uZVqKE9GN/lib/python3.11/site-packages/IPython/core/async_helpers.py:128\u001b[39m, in \u001b[36m_pseudo_sync_runner\u001b[39m\u001b[34m()\u001b[39m\n\u001b[32m    127\u001b[39m \u001b[38;5;28;01mtry\u001b[39;00m:\n\u001b[32m--> \u001b[39m\u001b[32m128\u001b[39m     coro.send(\u001b[38;5;28;01mNone\u001b[39;00m)\n\u001b[32m    129\u001b[39m \u001b[38;5;28;01mexcept\u001b[39;00m \u001b[38;5;167;01mStopIteration\u001b[39;00m \u001b[38;5;28;01mas\u001b[39;00m exc:\n",
      "\u001b[36mFile \u001b[39m\u001b[32m~/.cache/uv/archive-v0/C7NNiDw5Jkg1uZVqKE9GN/lib/python3.11/site-packages/IPython/core/interactiveshell.py:3367\u001b[39m, in \u001b[36mrun_cell_async\u001b[39m\u001b[34m()\u001b[39m\n\u001b[32m   3364\u001b[39m interactivity = \u001b[33m\"\u001b[39m\u001b[33mnone\u001b[39m\u001b[33m\"\u001b[39m \u001b[38;5;28;01mif\u001b[39;00m silent \u001b[38;5;28;01melse\u001b[39;00m \u001b[38;5;28mself\u001b[39m.ast_node_interactivity\n\u001b[32m-> \u001b[39m\u001b[32m3367\u001b[39m has_raised = \u001b[38;5;28;01mawait\u001b[39;00m \u001b[38;5;28mself\u001b[39m.run_ast_nodes(code_ast.body, cell_name,\n\u001b[32m   3368\u001b[39m        interactivity=interactivity, compiler=compiler, result=result)\n\u001b[32m   3370\u001b[39m \u001b[38;5;28mself\u001b[39m.last_execution_succeeded = \u001b[38;5;129;01mnot\u001b[39;00m has_raised\n",
      "\u001b[36mFile \u001b[39m\u001b[32m~/.cache/uv/archive-v0/C7NNiDw5Jkg1uZVqKE9GN/lib/python3.11/site-packages/IPython/core/interactiveshell.py:3612\u001b[39m, in \u001b[36mrun_ast_nodes\u001b[39m\u001b[34m()\u001b[39m\n\u001b[32m   3611\u001b[39m     asy = compare(code)\n\u001b[32m-> \u001b[39m\u001b[32m3612\u001b[39m \u001b[38;5;28;01mif\u001b[39;00m \u001b[38;5;28;01mawait\u001b[39;00m \u001b[38;5;28mself\u001b[39m.run_code(code, result, async_=asy):\n\u001b[32m   3613\u001b[39m     \u001b[38;5;28;01mreturn\u001b[39;00m \u001b[38;5;28;01mTrue\u001b[39;00m\n",
      "\u001b[36mFile \u001b[39m\u001b[32m~/.cache/uv/archive-v0/C7NNiDw5Jkg1uZVqKE9GN/lib/python3.11/site-packages/IPython/core/interactiveshell.py:3672\u001b[39m, in \u001b[36mrun_code\u001b[39m\u001b[34m()\u001b[39m\n\u001b[32m   3671\u001b[39m     \u001b[38;5;28;01melse\u001b[39;00m:\n\u001b[32m-> \u001b[39m\u001b[32m3672\u001b[39m         exec(code_obj, \u001b[38;5;28mself\u001b[39m.user_global_ns, \u001b[38;5;28mself\u001b[39m.user_ns)\n\u001b[32m   3673\u001b[39m \u001b[38;5;28;01mfinally\u001b[39;00m:\n\u001b[32m   3674\u001b[39m     \u001b[38;5;66;03m# Reset our crash handler in place\u001b[39;00m\n",
      "\u001b[36mCell\u001b[39m\u001b[36m \u001b[39m\u001b[32mIn[13]\u001b[39m\u001b[32m, line 11\u001b[39m\n\u001b[32m      9\u001b[39m     \u001b[38;5;28;01mreturn\u001b[39;00m jnp.array([Ip])\n\u001b[32m---> \u001b[39m\u001b[32m11\u001b[39m jax.jacrev(Ip_of_V)(jnp.array([\u001b[32m0.0\u001b[39m]))\n",
      "\u001b[36mCell\u001b[39m\u001b[36m \u001b[39m\u001b[32mIn[13]\u001b[39m\u001b[32m, line 4\u001b[39m, in \u001b[36mIp_of_V\u001b[39m\u001b[34m()\u001b[39m\n\u001b[32m      3\u001b[39m V = y[\u001b[32m0\u001b[39m]\n\u001b[32m----> \u001b[39m\u001b[32m4\u001b[39m Ip = apply_tesseract(tx, {\u001b[33m\"\u001b[39m\u001b[33mN\u001b[39m\u001b[33m\"\u001b[39m: array(\u001b[32m1e18\u001b[39m), \n\u001b[32m      5\u001b[39m                          \u001b[33m\"\u001b[39m\u001b[33mn\u001b[39m\u001b[33m\"\u001b[39m: array(\u001b[32m1.1e22\u001b[39m), \n\u001b[32m      6\u001b[39m                          \u001b[33m\"\u001b[39m\u001b[33mT\u001b[39m\u001b[33m\"\u001b[39m: array(\u001b[32m2e1\u001b[39m), \n\u001b[32m      7\u001b[39m                          \u001b[33m\"\u001b[39m\u001b[33mVp\u001b[39m\u001b[33m\"\u001b[39m: array(V), \n\u001b[32m      8\u001b[39m                          \u001b[33m\"\u001b[39m\u001b[33mLz\u001b[39m\u001b[33m\"\u001b[39m: array(\u001b[32m2.5\u001b[39m) })[\u001b[33m\"\u001b[39m\u001b[33mIp\u001b[39m\u001b[33m\"\u001b[39m]\n\u001b[32m      9\u001b[39m \u001b[38;5;28;01mreturn\u001b[39;00m jnp.array([Ip])\n",
      "\u001b[36mFile \u001b[39m\u001b[32m~/src/spscml_dlr/.venv/lib/python3.11/site-packages/tesseract_jax/primitive.py:346\u001b[39m, in \u001b[36mapply_tesseract\u001b[39m\u001b[34m()\u001b[39m\n\u001b[32m    345\u001b[39m \u001b[38;5;66;03m# Apply the primitive\u001b[39;00m\n\u001b[32m--> \u001b[39m\u001b[32m346\u001b[39m out = tesseract_dispatch_p.bind(\n\u001b[32m    347\u001b[39m     *array_args,\n\u001b[32m    348\u001b[39m     static_args=static_args,\n\u001b[32m    349\u001b[39m     input_pytreedef=input_pytreedef,\n\u001b[32m    350\u001b[39m     output_pytreedef=output_pytreedef,\n\u001b[32m    351\u001b[39m     output_avals=flat_avals,\n\u001b[32m    352\u001b[39m     is_static_mask=is_static_mask,\n\u001b[32m    353\u001b[39m     client=client,\n\u001b[32m    354\u001b[39m     eval_func=\u001b[33m\"\u001b[39m\u001b[33mapply\u001b[39m\u001b[33m\"\u001b[39m,\n\u001b[32m    355\u001b[39m )\n\u001b[32m    357\u001b[39m \u001b[38;5;66;03m# Unflatten the output\u001b[39;00m\n",
      "\u001b[36mFile \u001b[39m\u001b[32m~/src/spscml_dlr/.venv/lib/python3.11/site-packages/tesseract_jax/primitive.py:119\u001b[39m, in \u001b[36mtesseract_dispatch_jvp_rule\u001b[39m\u001b[34m()\u001b[39m\n\u001b[32m    110\u001b[39m tan_args_ = \u001b[38;5;28mtuple\u001b[39m(\n\u001b[32m    111\u001b[39m     (\n\u001b[32m    112\u001b[39m         jax.numpy.zeros_like(arg.aval)\n\u001b[32m   (...)\u001b[39m\u001b[32m    116\u001b[39m     \u001b[38;5;28;01mfor\u001b[39;00m arg \u001b[38;5;129;01min\u001b[39;00m tan_args\n\u001b[32m    117\u001b[39m )\n\u001b[32m--> \u001b[39m\u001b[32m119\u001b[39m jvp = tesseract_dispatch_p.bind(\n\u001b[32m    120\u001b[39m     *in_args,\n\u001b[32m    121\u001b[39m     *tan_args_,\n\u001b[32m    122\u001b[39m     static_args=static_args,\n\u001b[32m    123\u001b[39m     input_pytreedef=input_pytreedef,\n\u001b[32m    124\u001b[39m     output_pytreedef=output_pytreedef,\n\u001b[32m    125\u001b[39m     output_avals=output_avals,\n\u001b[32m    126\u001b[39m     is_static_mask=is_static_mask,\n\u001b[32m    127\u001b[39m     client=client,\n\u001b[32m    128\u001b[39m     eval_func=\u001b[33m\"\u001b[39m\u001b[33mjacobian_vector_product\u001b[39m\u001b[33m\"\u001b[39m,\n\u001b[32m    129\u001b[39m )\n\u001b[32m    131\u001b[39m res = tesseract_dispatch_p.bind(\n\u001b[32m    132\u001b[39m     *in_args,\n\u001b[32m    133\u001b[39m     static_args=static_args,\n\u001b[32m   (...)\u001b[39m\u001b[32m    139\u001b[39m     eval_func=\u001b[33m\"\u001b[39m\u001b[33mapply\u001b[39m\u001b[33m\"\u001b[39m,\n\u001b[32m    140\u001b[39m )\n",
      "\u001b[31mJaxStackTraceBeforeTransformation\u001b[39m: NotImplementedError: Batching rule for 'tesseract_dispatch' not implemented\n\nThe preceding stack trace is the source of the JAX operation that, once transformed by JAX, triggered the following exception.\n\n--------------------",
      "\nThe above exception was the direct cause of the following exception:\n",
      "\u001b[31mNotImplementedError\u001b[39m                       Traceback (most recent call last)",
      "\u001b[36mCell\u001b[39m\u001b[36m \u001b[39m\u001b[32mIn[13]\u001b[39m\u001b[32m, line 11\u001b[39m\n\u001b[32m      4\u001b[39m     Ip = apply_tesseract(tx, {\u001b[33m\"\u001b[39m\u001b[33mN\u001b[39m\u001b[33m\"\u001b[39m: array(\u001b[32m1e18\u001b[39m), \n\u001b[32m      5\u001b[39m                              \u001b[33m\"\u001b[39m\u001b[33mn\u001b[39m\u001b[33m\"\u001b[39m: array(\u001b[32m1.1e22\u001b[39m), \n\u001b[32m      6\u001b[39m                              \u001b[33m\"\u001b[39m\u001b[33mT\u001b[39m\u001b[33m\"\u001b[39m: array(\u001b[32m2e1\u001b[39m), \n\u001b[32m      7\u001b[39m                              \u001b[33m\"\u001b[39m\u001b[33mVp\u001b[39m\u001b[33m\"\u001b[39m: array(V), \n\u001b[32m      8\u001b[39m                              \u001b[33m\"\u001b[39m\u001b[33mLz\u001b[39m\u001b[33m\"\u001b[39m: array(\u001b[32m2.5\u001b[39m) })[\u001b[33m\"\u001b[39m\u001b[33mIp\u001b[39m\u001b[33m\"\u001b[39m]\n\u001b[32m      9\u001b[39m     \u001b[38;5;28;01mreturn\u001b[39;00m jnp.array([Ip])\n\u001b[32m---> \u001b[39m\u001b[32m11\u001b[39m \u001b[43mjax\u001b[49m\u001b[43m.\u001b[49m\u001b[43mjacrev\u001b[49m\u001b[43m(\u001b[49m\u001b[43mIp_of_V\u001b[49m\u001b[43m)\u001b[49m\u001b[43m(\u001b[49m\u001b[43mjnp\u001b[49m\u001b[43m.\u001b[49m\u001b[43marray\u001b[49m\u001b[43m(\u001b[49m\u001b[43m[\u001b[49m\u001b[32;43m0.0\u001b[39;49m\u001b[43m]\u001b[49m\u001b[43m)\u001b[49m\u001b[43m)\u001b[49m\n",
      "\u001b[36mFile \u001b[39m\u001b[32m~/src/spscml_dlr/.venv/lib/python3.11/site-packages/jax/_src/api.py:800\u001b[39m, in \u001b[36mjacrev.<locals>.jacfun\u001b[39m\u001b[34m(*args, **kwargs)\u001b[39m\n\u001b[32m    798\u001b[39m   y, pullback, aux = _vjp(f_partial, *dyn_args, has_aux=\u001b[38;5;28;01mTrue\u001b[39;00m)\n\u001b[32m    799\u001b[39m tree_map(partial(_check_output_dtype_jacrev, holomorphic), y)\n\u001b[32m--> \u001b[39m\u001b[32m800\u001b[39m jac = \u001b[43mvmap\u001b[49m\u001b[43m(\u001b[49m\u001b[43mpullback\u001b[49m\u001b[43m)\u001b[49m\u001b[43m(\u001b[49m\u001b[43m_std_basis\u001b[49m\u001b[43m(\u001b[49m\u001b[43my\u001b[49m\u001b[43m)\u001b[49m\u001b[43m)\u001b[49m\n\u001b[32m    801\u001b[39m jac = jac[\u001b[32m0\u001b[39m] \u001b[38;5;28;01mif\u001b[39;00m \u001b[38;5;28misinstance\u001b[39m(argnums, \u001b[38;5;28mint\u001b[39m) \u001b[38;5;28;01melse\u001b[39;00m jac\n\u001b[32m    802\u001b[39m example_args = dyn_args[\u001b[32m0\u001b[39m] \u001b[38;5;28;01mif\u001b[39;00m \u001b[38;5;28misinstance\u001b[39m(argnums, \u001b[38;5;28mint\u001b[39m) \u001b[38;5;28;01melse\u001b[39;00m dyn_args\n",
      "    \u001b[31m[... skipping hidden 13 frame]\u001b[39m\n",
      "\u001b[36mFile \u001b[39m\u001b[32m~/src/spscml_dlr/.venv/lib/python3.11/site-packages/tesseract_jax/primitive.py:174\u001b[39m, in \u001b[36mtesseract_dispatch_transpose_rule\u001b[39m\u001b[34m(cotangent, static_args, input_pytreedef, output_pytreedef, output_avals, is_static_mask, client, eval_func, *args)\u001b[39m\n\u001b[32m    163\u001b[39m args = args[:n_primals]\n\u001b[32m    165\u001b[39m cotan_args_ = \u001b[38;5;28mtuple\u001b[39m(\n\u001b[32m    166\u001b[39m     (\n\u001b[32m    167\u001b[39m         jax.numpy.zeros_like(arg.aval)\n\u001b[32m   (...)\u001b[39m\u001b[32m    171\u001b[39m     \u001b[38;5;28;01mfor\u001b[39;00m arg \u001b[38;5;129;01min\u001b[39;00m cotangent\n\u001b[32m    172\u001b[39m )\n\u001b[32m--> \u001b[39m\u001b[32m174\u001b[39m vjp = \u001b[43mtesseract_dispatch_p\u001b[49m\u001b[43m.\u001b[49m\u001b[43mbind\u001b[49m\u001b[43m(\u001b[49m\n\u001b[32m    175\u001b[39m \u001b[43m    \u001b[49m\u001b[43m*\u001b[49m\u001b[43margs\u001b[49m\u001b[43m,\u001b[49m\n\u001b[32m    176\u001b[39m \u001b[43m    \u001b[49m\u001b[43m*\u001b[49m\u001b[43mcotan_args_\u001b[49m\u001b[43m,\u001b[49m\n\u001b[32m    177\u001b[39m \u001b[43m    \u001b[49m\u001b[43mstatic_args\u001b[49m\u001b[43m=\u001b[49m\u001b[43mstatic_args\u001b[49m\u001b[43m,\u001b[49m\n\u001b[32m    178\u001b[39m \u001b[43m    \u001b[49m\u001b[43minput_pytreedef\u001b[49m\u001b[43m=\u001b[49m\u001b[43minput_pytreedef\u001b[49m\u001b[43m,\u001b[49m\n\u001b[32m    179\u001b[39m \u001b[43m    \u001b[49m\u001b[43moutput_pytreedef\u001b[49m\u001b[43m=\u001b[49m\u001b[43moutput_pytreedef\u001b[49m\u001b[43m,\u001b[49m\n\u001b[32m    180\u001b[39m \u001b[43m    \u001b[49m\u001b[43moutput_avals\u001b[49m\u001b[43m=\u001b[49m\u001b[43moutput_avals\u001b[49m\u001b[43m,\u001b[49m\n\u001b[32m    181\u001b[39m \u001b[43m    \u001b[49m\u001b[43mis_static_mask\u001b[49m\u001b[43m=\u001b[49m\u001b[43mis_static_mask\u001b[49m\u001b[43m,\u001b[49m\n\u001b[32m    182\u001b[39m \u001b[43m    \u001b[49m\u001b[43mclient\u001b[49m\u001b[43m=\u001b[49m\u001b[43mclient\u001b[49m\u001b[43m,\u001b[49m\n\u001b[32m    183\u001b[39m \u001b[43m    \u001b[49m\u001b[43meval_func\u001b[49m\u001b[43m=\u001b[49m\u001b[33;43m\"\u001b[39;49m\u001b[33;43mvector_jacobian_product\u001b[39;49m\u001b[33;43m\"\u001b[39;49m\u001b[43m,\u001b[49m\n\u001b[32m    184\u001b[39m \u001b[43m\u001b[49m\u001b[43m)\u001b[49m\n\u001b[32m    185\u001b[39m \u001b[38;5;66;03m# TODO: I'm not sure this makes sense given these docs:\u001b[39;00m\n\u001b[32m    186\u001b[39m \u001b[38;5;66;03m#       https://jax.readthedocs.io/en/latest/jax-primitives.html#transposition\u001b[39;00m\n\u001b[32m    187\u001b[39m \u001b[38;5;66;03m#       \"A tuple with the cotangent of the inputs, with the value None corresponding to the constant arguments\"\u001b[39;00m\n\u001b[32m    188\u001b[39m \u001b[38;5;66;03m#       ...but if I provide only cotangent, jax complains, and if I investigate its internals,\u001b[39;00m\n\u001b[32m    189\u001b[39m \u001b[38;5;66;03m#       I see it chokes on map(partial(write_cotangent, eqn.primitive), eqn.invars, cts_out),\u001b[39;00m\n\u001b[32m    190\u001b[39m \u001b[38;5;66;03m#       where eqn.invars ends up being longer than cts_out.\u001b[39;00m\n\u001b[32m    192\u001b[39m \u001b[38;5;28;01mreturn\u001b[39;00m \u001b[38;5;28mtuple\u001b[39m([\u001b[38;5;28;01mNone\u001b[39;00m] * \u001b[38;5;28mlen\u001b[39m(args) + vjp)\n",
      "    \u001b[31m[... skipping hidden 3 frame]\u001b[39m\n",
      "\u001b[36mFile \u001b[39m\u001b[32m~/src/spscml_dlr/.venv/lib/python3.11/site-packages/jax/_src/interpreters/batching.py:505\u001b[39m, in \u001b[36mBatchTrace.process_primitive\u001b[39m\u001b[34m(self, p, tracers, params)\u001b[39m\n\u001b[32m    503\u001b[39m     val_out, dim_out = primitive_batchers[p](vals_in, dims_in, **params)\n\u001b[32m    504\u001b[39m \u001b[38;5;28;01melse\u001b[39;00m:\n\u001b[32m--> \u001b[39m\u001b[32m505\u001b[39m   \u001b[38;5;28;01mraise\u001b[39;00m \u001b[38;5;167;01mNotImplementedError\u001b[39;00m(\u001b[33m\"\u001b[39m\u001b[33mBatching rule for \u001b[39m\u001b[33m'\u001b[39m\u001b[38;5;132;01m{}\u001b[39;00m\u001b[33m'\u001b[39m\u001b[33m not implemented\u001b[39m\u001b[33m\"\u001b[39m.format(p))\n\u001b[32m    506\u001b[39m src = source_info_util.current()\n\u001b[32m    507\u001b[39m \u001b[38;5;28;01mif\u001b[39;00m p.multiple_results:\n",
      "\u001b[31mNotImplementedError\u001b[39m: Batching rule for 'tesseract_dispatch' not implemented"
     ]
    }
   ],
   "source": [
    "with Tesseract.from_tesseract_api(tx_api) as tx:\n",
    "    def Ip_of_V(y):\n",
    "        V = y[0]\n",
    "        Ip = apply_tesseract(tx, {\"N\": array(1e18), \n",
    "                                 \"n\": array(1.1e22), \n",
    "                                 \"T\": array(2e1), \n",
    "                                 \"Vp\": array(V), \n",
    "                                 \"Lz\": array(2.5) })[\"Ip\"]\n",
    "        return jnp.array([Ip])\n",
    "\n",
    "    jax.jacrev(Ip_of_V)(jnp.array([0.0]))"
   ]
  }
 ],
 "metadata": {
  "kernelspec": {
   "display_name": "Python 3 (ipykernel)",
   "language": "python",
   "name": "python3"
  },
  "language_info": {
   "codemirror_mode": {
    "name": "ipython",
    "version": 3
   },
   "file_extension": ".py",
   "mimetype": "text/x-python",
   "name": "python",
   "nbconvert_exporter": "python",
   "pygments_lexer": "ipython3",
   "version": "3.11.11"
  }
 },
 "nbformat": 4,
 "nbformat_minor": 5
}
