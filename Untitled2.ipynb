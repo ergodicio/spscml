{
 "cells": [
  {
   "cell_type": "code",
   "execution_count": 3,
   "id": "760ca9b4-7d6e-4338-a715-97bbaace4fd5",
   "metadata": {},
   "outputs": [],
   "source": [
    "import jpu\n",
    "import jax.numpy as jnp\n",
    "\n",
    "ureg = jpu.UnitRegistry()\n"
   ]
  },
  {
   "cell_type": "code",
   "execution_count": 9,
   "id": "185b6343-dffd-4282-abdd-b747f13fd62c",
   "metadata": {},
   "outputs": [
    {
     "data": {
      "text/html": [
       "936.3328857421875 volt/meter"
      ],
      "text/latex": [
       "$936.3328857421875\\ \\frac{\\mathrm{volt}}{\\mathrm{meter}}$"
      ],
      "text/plain": [
       "<Quantity(936.3328857421875, 'volt / meter')>"
      ]
     },
     "execution_count": 9,
     "metadata": {},
     "output_type": "execute_result"
    }
   ],
   "source": [
    "T = 20*ureg.eV\n",
    "\n",
    "eta = 1 / 1.96 * jnp.sqrt(2) * ureg.m_e**0.5 * ureg.e**2 * 10 \\\n",
    "                / (12 * jnp.pi**1.5 * ureg.epsilon_0**2 * T**1.5)\n",
    "\n",
    "I = 50*ureg.kA\n",
    "j = I / (jnp.pi * (0.01*ureg.m)**2)\n",
    "(j * eta).to(ureg.volt / ureg.meter)"
   ]
  },
  {
   "cell_type": "code",
   "execution_count": 36,
   "id": "477a6b0a-ce0c-47f2-9a3c-b9eeb84d6ff9",
   "metadata": {},
   "outputs": [
    {
     "name": "stdout",
     "output_type": "stream",
     "text": [
      "j =  -215611717.91953886 ampere / meter ** 2\n",
      "4.962815909522239e+19 / meter\n"
     ]
    }
   ],
   "source": [
    "n0 = 6e22 * ureg.m**-3\n",
    "T0 = 200.0 * ureg.eV\n",
    "N_putative = 1e18 * ureg.m**-1\n",
    "# Achieved by vlasov sim\n",
    "Ip = -3593.5286319923143 * ureg.A\n",
    "\n",
    "j = Ip * n0 / N_putative\n",
    "print(\"j = \", j)\n",
    "\n",
    "# First bennett relation: not satisfied at all\n",
    "bennett_left = N_putative * T0\n",
    "bennett_right = ureg.mu0 * Ip**2 / 8*jnp.pi\n",
    "\n",
    "# Second bennett relation\n",
    "N_from_bennett = (bennett_right / T0).to(ureg.m**-1)\n",
    "\n",
    "# Third bennett relation\n",
    "N_bennett_j = (8*jnp.pi * T0 * n0**2 / (ureg.mu0 * j**2)).to(ureg.m**-1)\n",
    "print(N_bennett_j)"
   ]
  },
  {
   "cell_type": "code",
   "execution_count": 38,
   "id": "3f8d91e7-4fd7-4ed6-8fb3-fe90b57f72b7",
   "metadata": {},
   "outputs": [
    {
     "data": {
      "text/html": [
       "-178340.21066175142 ampere"
      ],
      "text/latex": [
       "$-178340.21066175142\\ \\mathrm{ampere}$"
      ],
      "text/plain": [
       "<Quantity(-178340.211, 'ampere')>"
      ]
     },
     "execution_count": 38,
     "metadata": {},
     "output_type": "execute_result"
    }
   ],
   "source": [
    "I_imputed = j * N_bennett_j / n0\n",
    "I_imputed"
   ]
  },
  {
   "cell_type": "code",
   "execution_count": 37,
   "id": "e0af13df-8f44-45fb-b8bd-6d29e431b60f",
   "metadata": {},
   "outputs": [
    {
     "data": {
      "text/html": [
       "1973.920880217871 electron_volt"
      ],
      "text/latex": [
       "$1973.920880217871\\ \\mathrm{electron\\_volt}$"
      ],
      "text/plain": [
       "<Quantity(1973.92088, 'electron_volt')>"
      ]
     },
     "execution_count": 37,
     "metadata": {},
     "output_type": "execute_result"
    }
   ],
   "source": [
    "(ureg.mu0*I_imputed**2 / 8*jnp.pi / N_bennett_j).to(ureg.eV)"
   ]
  },
  {
   "cell_type": "code",
   "execution_count": 40,
   "id": "5c10e5f5-d17e-408a-adb3-3273b6defe19",
   "metadata": {},
   "outputs": [
    {
     "data": {
      "text/html": [
       "31805230738.877876 ampere<sup>2</sup>"
      ],
      "text/latex": [
       "$31805230738.877876\\ \\mathrm{ampere}^{2}$"
      ],
      "text/plain": [
       "<Quantity(3.18052307e+10, 'ampere ** 2')>"
      ]
     },
     "execution_count": 40,
     "metadata": {},
     "output_type": "execute_result"
    }
   ],
   "source": [
    "I_imputed_squared = (j**2 * N_bennett_j**2 / n0**2)\n"
   ]
  },
  {
   "cell_type": "code",
   "execution_count": 49,
   "id": "4b33ba95-4f53-4bc1-ad11-423da19abc21",
   "metadata": {},
   "outputs": [
    {
     "data": {
      "text/html": [
       "199.99999999999994 electron_volt"
      ],
      "text/latex": [
       "$199.99999999999994\\ \\mathrm{electron\\_volt}$"
      ],
      "text/plain": [
       "<Quantity(200.0, 'electron_volt')>"
      ]
     },
     "execution_count": 49,
     "metadata": {},
     "output_type": "execute_result"
    }
   ],
   "source": [
    "j = -2e8 * ureg.ampere / ureg.m**2\n",
    "\n",
    "N = (8*jnp.pi * T0 * n0**2 / (ureg.mu0 * j**2)).to(ureg.m**-1)\n",
    "Ip = j * N / n0\n",
    "\n",
    "(ureg.mu0 * Ip**2 / (8*jnp.pi) / N).to(ureg.eV)"
   ]
  },
  {
   "cell_type": "code",
   "execution_count": 68,
   "id": "37c4aa52-1107-4069-9021-e49c649e96c5",
   "metadata": {},
   "outputs": [
    {
     "data": {
      "text/html": [
       "-28000.378231599512 volt/meter"
      ],
      "text/latex": [
       "$-28000.378231599512\\ \\frac{\\mathrm{volt}}{\\mathrm{meter}}$"
      ],
      "text/plain": [
       "<Quantity(-28000.3782, 'volt / meter')>"
      ]
     },
     "execution_count": 68,
     "metadata": {},
     "output_type": "execute_result"
    }
   ],
   "source": [
    "Ae = 0.04\n",
    "# Ae = 1 / 0.04\n",
    "me = ureg.m_p * Ae\n",
    "ne = 6e22*ureg.m**-3\n",
    "T = 20*ureg.eV\n",
    "vte = (T0 / (me))**0.5\n",
    "lambda_mfp = 0.00013604778278375278 * ureg.m\n",
    "nu_ei = (vte / lambda_mfp).to(ureg.s**-1)\n",
    "\n",
    "eta_spitzer = me * nu_ei / (ne * ureg.e**2)\n",
    "\n",
    "j = -126715085.57615265 * ureg.A / ureg.m**2\n",
    "E = (eta_spitzer * j).to(ureg.volt / ureg.m)\n",
    "E"
   ]
  },
  {
   "cell_type": "code",
   "execution_count": 93,
   "id": "ffd0733f-793b-4057-a36f-2fd11ccf3f1d",
   "metadata": {},
   "outputs": [
    {
     "data": {
      "text/html": [
       "3224.9507104946597 megaampere/meter<sup>2</sup>"
      ],
      "text/latex": [
       "$3224.9507104946597\\ \\frac{\\mathrm{megaampere}}{\\mathrm{meter}^{2}}$"
      ],
      "text/plain": [
       "<Quantity(3224.95071, 'megaampere / meter ** 2')>"
      ]
     },
     "execution_count": 93,
     "metadata": {},
     "output_type": "execute_result"
    }
   ],
   "source": [
    "Ae = 1/1836\n",
    "me = ureg.m_p * Ae\n",
    "\n",
    "ne = 6e22*ureg.m**-3\n",
    "T = 200*ureg.eV\n",
    "vte = (T0 / (me))**0.5\n",
    "lambda_mfp = 0.01885526071527006 * ureg.m\n",
    "nu_ei = (vte / lambda_mfp).to(ureg.s**-1)\n",
    "\n",
    "eta_spitzer = me * nu_ei / (ne * ureg.e**2)\n",
    "\n",
    "E = 300*ureg.volt / (0.5*ureg.m)\n",
    "\n",
    "j_expected = (E / eta_spitzer).to(ureg.MA / ureg.m**2)\n",
    "j_expected"
   ]
  },
  {
   "cell_type": "code",
   "execution_count": 91,
   "id": "2127a163-a7d7-4351-930a-265dd27cd55d",
   "metadata": {},
   "outputs": [
    {
     "data": {
      "text/html": [
       "0.0188552588224411 meter"
      ],
      "text/latex": [
       "$0.0188552588224411\\ \\mathrm{meter}$"
      ],
      "text/plain": [
       "<Quantity(0.0188552588224411, 'meter')>"
      ]
     },
     "execution_count": 91,
     "metadata": {},
     "output_type": "execute_result"
    }
   ],
   "source": [
    "Ae = 1/1836\n",
    "me = ureg.m_p * Ae\n",
    "\n",
    "T = 200*ureg.eV\n",
    "ne = 6e22*ureg.m**-3\n",
    "\n",
    "eta = 1 / 1.96 * jnp.sqrt(2) * me**0.5 * ureg.e**2 * 10 \\\n",
    "                / (12 * jnp.pi**1.5 * ureg.epsilon_0**2 * T**1.5)\n",
    "\n",
    "nu_ei = (eta / me * ne * ureg.e**2).to(ureg.s**-1)\n",
    "(vte / nu_ei).to(ureg.m)"
   ]
  },
  {
   "cell_type": "code",
   "execution_count": 86,
   "id": "df119ce2-9a8e-4d4e-abe8-1d98dda903ff",
   "metadata": {},
   "outputs": [
    {
     "data": {
      "text/html": [
       "0.005109740886837244 meter"
      ],
      "text/latex": [
       "$0.005109740886837244\\ \\mathrm{meter}$"
      ],
      "text/plain": [
       "<Quantity(0.005109740886837244, 'meter')>"
      ]
     },
     "execution_count": 86,
     "metadata": {},
     "output_type": "execute_result"
    }
   ],
   "source": [
    "Ae1 = 1/1836\n",
    "Ae2 = 1/25\n",
    "(vte / nu_ei).to(ureg.m) * (Ae2 / Ae1)**0.5"
   ]
  },
  {
   "cell_type": "code",
   "execution_count": 100,
   "id": "d779a6b7-205f-4d9c-9e0f-e5b85c19208f",
   "metadata": {},
   "outputs": [
    {
     "name": "stdout",
     "output_type": "stream",
     "text": [
      "j =  153808.95677965076 kiloampere / meter ** 2\n",
      "j_sat =  384098.2454458425 kiloampere / meter ** 2\n"
     ]
    }
   ],
   "source": [
    "Ip_target = 50*ureg.kA\n",
    "T = 20*ureg.eV\n",
    "N = (ureg.mu_0 * Ip_target**2 / (8*jnp.pi*2*T)).to(ureg.m**-1)\n",
    "\n",
    "n = 6e22*ureg.m**-3\n",
    "j = Ip_target * n / N\n",
    "j\n",
    "\n",
    "j_sat = (0.5 * ureg.e * n * ((5/3 * T + 5/3*T) / ureg.m_p)**0.5).to(ureg.kA / ureg.m**2)\n",
    "\n",
    "print(\"j = \", j)\n",
    "print(\"j_sat = \", j_sat)"
   ]
  },
  {
   "cell_type": "code",
   "execution_count": 111,
   "id": "9430a1e1-fe54-4aa7-8872-d2cf4f24410e",
   "metadata": {},
   "outputs": [
    {
     "data": {
      "text/plain": [
       "(32, 4)"
      ]
     },
     "execution_count": 111,
     "metadata": {},
     "output_type": "execute_result"
    }
   ],
   "source": [
    "A = jnp.linspace(0, 10, 4)\n",
    "B = jnp.linspace(0, 4, 32)\n",
    "\n",
    "AB = jnp.expand_dims(A, axis=1) * jnp.expand_dims(B, axis=0)\n",
    "AB.shape\n",
    "\n",
    "q, r = jnp.linalg.qr(AB.T)\n",
    "q.shape"
   ]
  }
 ],
 "metadata": {
  "kernelspec": {
   "display_name": "Python 3 (ipykernel)",
   "language": "python",
   "name": "python3"
  },
  "language_info": {
   "codemirror_mode": {
    "name": "ipython",
    "version": 3
   },
   "file_extension": ".py",
   "mimetype": "text/x-python",
   "name": "python",
   "nbconvert_exporter": "python",
   "pygments_lexer": "ipython3",
   "version": "3.11.11"
  }
 },
 "nbformat": 4,
 "nbformat_minor": 5
}
